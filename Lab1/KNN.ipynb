{
 "cells": [
  {
   "cell_type": "code",
   "execution_count": 6,
   "metadata": {},
   "outputs": [],
   "source": [
    "import numpy as np\n",
    "from sklearn.feature_extraction.text import TfidfVectorizer\n",
    "from sklearn.neighbors import KNeighborsClassifier\n",
    "from sklearn.metrics import accuracy_score"
   ]
  },
  {
   "cell_type": "code",
   "execution_count": 6,
   "metadata": {},
   "outputs": [
    {
     "name": "stdout",
     "output_type": "stream",
     "text": [
      "[[0.         0.         0.         ... 0.         0.         0.08428449]\n",
      " [0.         0.         0.         ... 0.04121789 0.         0.        ]\n",
      " [0.         0.         0.         ... 0.         0.         0.        ]\n",
      " ...\n",
      " [0.         0.         0.         ... 0.         0.         0.        ]\n",
      " [0.         0.         0.         ... 0.         0.         0.0550682 ]\n",
      " [0.         0.         0.         ... 0.         0.         0.        ]]\n"
     ]
    }
   ],
   "source": [
    "# Khai báo các file cần load lên (thuộc tập train)\n",
    "fileList = [\"Dataset/giaoduc\" + str(i) + \".txt\" for i in range(50)]\n",
    "fileList = fileList + [\"Dataset/chinhtri\" + str(i) + \".txt\" for i in range(50)]\n",
    "fileList = fileList + [\"Dataset/phapluat\" + str(i) + \".txt\" for i in range(50)]\n",
    "fileList = fileList + [\"Dataset/suckhoe\" + str(i) + \".txt\" for i in range(50)]\n",
    "\n",
    "# Khai báo các file cần load lên (thuộc tập test)\n",
    "fileList = fileList + [\"Dataset/giaoduc\" + str(i) + \".txt\" for i in range(50,60)]\n",
    "fileList = fileList + [\"Dataset/chinhtri\" + str(i) + \".txt\" for i in range(50,60)]\n",
    "fileList = fileList + [\"Dataset/phapluat\" + str(i) + \".txt\" for i in range(50,60)]\n",
    "fileList = fileList + [\"Dataset/suckhoe\" + str(i) + \".txt\" for i in range(50,70)]\n",
    "X = TfidfVectorizer(input='filename').fit_transform(fileList).toarray()\n",
    "\n",
    "# 200 phần tử đầu thuộc tập train\n",
    "X_train = X[:200]\n",
    "# 50 phần từ sau thuộc tập test\n",
    "X_test = X[200:250]"
   ]
  },
  {
   "cell_type": "code",
   "execution_count": 8,
   "metadata": {},
   "outputs": [],
   "source": [
    "Y_train = []\n",
    "Y_test = []\n",
    "\n",
    "# Tạo vector chứa nhãn của tập train\n",
    "for i in range(0,200):\n",
    "    if (i<50):\n",
    "        Y_train.append(0) \n",
    "    elif (i<100):\n",
    "        Y_train.append(1)\n",
    "    elif (i<150):\n",
    "        Y_train.append(2)\n",
    "    else:\n",
    "        Y_train.append(3)\n",
    "        \n",
    "# Tạo vector chứa nhãn đúng của tập test, dùng để so sánh với kết quả predict        \n",
    "for i in range(0,50):\n",
    "    if (i<10):\n",
    "        Y_test.append(0) \n",
    "    elif (i<20):\n",
    "        Y_test.append(1)\n",
    "    elif (i<30):\n",
    "        Y_test.append(2)\n",
    "    else:\n",
    "        Y_test.append(3)"
   ]
  },
  {
   "cell_type": "code",
   "execution_count": 9,
   "metadata": {},
   "outputs": [
    {
     "name": "stdout",
     "output_type": "stream",
     "text": [
      "970200\n",
      "[0, 0, 0, 0, 0, 0, 0, 0, 0, 0, 0, 0, 0, 0, 0, 0, 0, 0, 0, 0, 0, 0, 0, 0, 0, 0, 0, 0, 0, 0, 0, 0, 0, 0, 0, 0, 0, 0, 0, 0, 0, 0, 0, 0, 0, 0, 0, 0, 0, 0, 1, 1, 1, 1, 1, 1, 1, 1, 1, 1, 1, 1, 1, 1, 1, 1, 1, 1, 1, 1, 1, 1, 1, 1, 1, 1, 1, 1, 1, 1, 1, 1, 1, 1, 1, 1, 1, 1, 1, 1, 1, 1, 1, 1, 1, 1, 1, 1, 1, 1, 2, 2, 2, 2, 2, 2, 2, 2, 2, 2, 2, 2, 2, 2, 2, 2, 2, 2, 2, 2, 2, 2, 2, 2, 2, 2, 2, 2, 2, 2, 2, 2, 2, 2, 2, 2, 2, 2, 2, 2, 2, 2, 2, 2, 2, 2, 2, 2, 2, 2, 3, 3, 3, 3, 3, 3, 3, 3, 3, 3, 3, 3, 3, 3, 3, 3, 3, 3, 3, 3, 3, 3, 3, 3, 3, 3, 3, 3, 3, 3, 3, 3, 3, 3, 3, 3, 3, 3, 3, 3, 3, 3, 3, 3, 3, 3, 3, 3, 3, 3]\n"
     ]
    },
    {
     "data": {
      "text/plain": [
       "KNeighborsClassifier(algorithm='auto', leaf_size=30, metric='minkowski',\n",
       "           metric_params=None, n_jobs=1, n_neighbors=5, p=2,\n",
       "           weights='uniform')"
      ]
     },
     "execution_count": 9,
     "metadata": {},
     "output_type": "execute_result"
    }
   ],
   "source": [
    "neigh = KNeighborsClassifier(n_neighbors=5)\n",
    "print(X_train.size)\n",
    "print(Y_train)\n",
    "neigh.fit(X_train,Y_train)"
   ]
  },
  {
   "cell_type": "code",
   "execution_count": 10,
   "metadata": {},
   "outputs": [
    {
     "name": "stdout",
     "output_type": "stream",
     "text": [
      "Accuracy:  0.9\n",
      "Precision:  0.9\n",
      "Recall:  0.9\n",
      "F-Measure:  0.9\n"
     ]
    }
   ],
   "source": [
    "# Predict kết quả\n",
    "Y_predict = neigh.predict(X_test)\n",
    "\n",
    "# So sánh để tính độ chính xác\n",
    "accuracy_score(Y_predict, Y_test)\n",
    "from sklearn.naive_bayes import MultinomialNB\n",
    "from sklearn.naive_bayes import GaussianNB\n",
    "from sklearn.pipeline import make_pipeline\n",
    "from imblearn.under_sampling import RandomUnderSampler\n",
    "from imblearn.pipeline import make_pipeline as make_pipeline_imb\n",
    "from imblearn.metrics import classification_report_imbalanced\n",
    "from sklearn.model_selection import train_test_split\n",
    "from sklearn.metrics import precision_score\n",
    "from sklearn.metrics import recall_score\n",
    "from sklearn.metrics import accuracy_score\n",
    "from sklearn.metrics import f1_score\n",
    "print(\"Accuracy: \",accuracy_score(Y_test, Y_predict))\n",
    "print(\"Precision: \",precision_score(Y_test, Y_predict,average='micro'))\n",
    "print(\"Recall: \",recall_score(Y_test, Y_predict,average='micro'))\n",
    "print(\"F-Measure: \",f1_score(Y_test, Y_predict,average='micro'))"
   ]
  },
  {
   "cell_type": "code",
   "execution_count": null,
   "metadata": {},
   "outputs": [],
   "source": []
  }
 ],
 "metadata": {
  "kernelspec": {
   "display_name": "Python 3",
   "language": "python",
   "name": "python3"
  },
  "language_info": {
   "codemirror_mode": {
    "name": "ipython",
    "version": 3
   },
   "file_extension": ".py",
   "mimetype": "text/x-python",
   "name": "python",
   "nbconvert_exporter": "python",
   "pygments_lexer": "ipython3",
   "version": "3.5.2"
  }
 },
 "nbformat": 4,
 "nbformat_minor": 2
}
