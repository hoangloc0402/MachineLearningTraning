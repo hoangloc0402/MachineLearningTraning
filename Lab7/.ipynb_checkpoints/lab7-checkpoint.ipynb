{
 "cells": [
  {
   "cell_type": "code",
   "execution_count": 7,
   "metadata": {},
   "outputs": [],
   "source": [
    "# Nguyen Hoang Loc\n",
    "# 1511849"
   ]
  },
  {
   "cell_type": "code",
   "execution_count": 15,
   "metadata": {},
   "outputs": [],
   "source": [
    "import numpy as np\n",
    "from sklearn import metrics\n",
    "from sklearn.feature_extraction.text import TfidfVectorizer\n",
    "from sklearn import linear_model\n",
    "from sklearn.metrics import accuracy_score"
   ]
  },
  {
   "cell_type": "code",
   "execution_count": 48,
   "metadata": {},
   "outputs": [],
   "source": [
    "# Load all filename for training with 3 types of articles: GIAODUC, CHINHTRI, PHAPLUAT\n",
    "filename_train_giaoduc = [\"Dataset/giaoduc\" + str(i) + \".txt\" for i in range(80)]\n",
    "filename_train_chinhtri = [\"Dataset/chinhtri\" + str(i) + \".txt\" for i in range(80)]\n",
    "filename_train_phapluat = [\"Dataset/phapluat\" + str(i) + \".txt\" for i in range(80)]\n",
    "# Create var holding if-idf model\n",
    "TfidfVectorizer_giaoduc = TfidfVectorizer(input='filename')\n",
    "TfidfVectorizer_chinhtri = TfidfVectorizer(input='filename')\n",
    "TfidfVectorizer_phapluat = TfidfVectorizer(input='filename')\n",
    "# Create vector if-idf for training\n",
    "X_train_giaoduc = TfidfVectorizer_giaoduc.fit_transform(filename_train_giaoduc).toarray()\n",
    "X_train_chinhtri = TfidfVectorizer_chinhtri.fit_transform(filename_train_chinhtri).toarray()\n",
    "X_train_phapluat = TfidfVectorizer_phapluat.fit_transform(filename_train_phapluat).toarray()\n",
    "\n",
    "#Load all filename for testing\n",
    "filename_test = [\"Dataset/giaoduc\" + str(i) + \".txt\" for i in range(80,100)]\n",
    "filename_test+=[\"Dataset/chinhtri\" + str(i) + \".txt\" for i in range(80,100)]\n",
    "filename_test+=[\"Dataset/phapluat\" + str(i) + \".txt\" for i in range(80,100)]\n",
    "# Create 3 test sets with 3 different sizes in corresponding to 3 train sets\n",
    "X_test_with_giaoduc_size = TfidfVectorizer_giaoduc.transform(filename_test).toarray()\n",
    "X_test_with_chinhtri_size = TfidfVectorizer_chinhtri.transform(filename_test).toarray()\n",
    "X_test_with_phapluat_size = TfidfVectorizer_phapluat.transform(filename_test).toarray()"
   ]
  },
  {
   "cell_type": "code",
   "execution_count": 49,
   "metadata": {},
   "outputs": [],
   "source": [
    "# Create Y train data\n",
    "Y_train_giaoduc = [0]*80\n",
    "Y_train_chinhtri = [1]*80\n",
    "Y_train_phapluat = [2]*80\n",
    "Y_test = []\n",
    "for i in range(0, 3):\n",
    "    for j in range(0, 20):\n",
    "        Y_test.append(i)"
   ]
  },
  {
   "cell_type": "code",
   "execution_count": 50,
   "metadata": {},
   "outputs": [],
   "source": [
    "# Create 3 different linear models\n",
    "\n",
    "giaoduc_model = linear_model.LinearRegression()\n",
    "chinhtri_model = linear_model.LinearRegression()\n",
    "phapluat_model = linear_model.LinearRegression()\n",
    "\n",
    "# giaoduc_model = linear_model.Lasso(alpha = 0.1)\n",
    "# chinhtri_model = linear_model.Lasso(alpha = 0.1)\n",
    "# phapluat_model = linear_model.Lasso(alpha = 0.1)\n",
    "\n",
    "# giaoduc_model = linear_model.Ridge(alpha = 0.4)\n",
    "# chinhtri_model = linear_model.Ridge(alpha = 0.4)\n",
    "# phapluat_model = linear_model.Ridge(alpha = 0.4)"
   ]
  },
  {
   "cell_type": "code",
   "execution_count": 51,
   "metadata": {},
   "outputs": [
    {
     "data": {
      "text/plain": [
       "LinearRegression(copy_X=True, fit_intercept=True, n_jobs=1, normalize=False)"
      ]
     },
     "execution_count": 51,
     "metadata": {},
     "output_type": "execute_result"
    }
   ],
   "source": [
    "#Select one column with highest frequency for fitting in replace of Y \n",
    "giaoduc_selected_column_index = np.argmax(np.sum(X_train_giaoduc, axis= 1))\n",
    "chinhtri_selected_column_index = np.argmax(np.sum(X_train_chinhtri, axis= 1))\n",
    "phapluat_selected_column_index = np.argmax(np.sum(X_train_phapluat, axis= 1))\n",
    "\n",
    "giaoduc_model.fit(X_train_giaoduc, X_train_giaoduc[:,giaoduc_selected_column_index])\n",
    "chinhtri_model.fit(X_train_chinhtri, X_train_chinhtri[:,chinhtri_selected_column_index])\n",
    "phapluat_model.fit(X_train_phapluat, X_train_phapluat[:,phapluat_selected_column_index])"
   ]
  },
  {
   "cell_type": "code",
   "execution_count": 52,
   "metadata": {},
   "outputs": [],
   "source": [
    "# Compute the distances from each article's vector to the hyperplane\n",
    "distance_giaoduc = [np.sum(vector * giaoduc_model.coef_) + giaoduc_model.intercept_ for vector in X_test_with_giaoduc_size]\n",
    "#print(distance_giaoduc)\n",
    "distance_chinhtri = [np.sum(vector * chinhtri_model.coef_) + chinhtri_model.intercept_ for vector in X_test_with_chinhtri_size]\n",
    "#print(distance_chinhtri)\n",
    "distance_phapluat = [np.sum(vector * phapluat_model.coef_) + phapluat_model.intercept_ for vector in X_test_with_phapluat_size]\n",
    "#print(distance_phapluat)"
   ]
  },
  {
   "cell_type": "code",
   "execution_count": 53,
   "metadata": {},
   "outputs": [],
   "source": [
    "predicted = []\n",
    "for i in range(0,60):\n",
    "    max_dist = max(distance_chinhtri[i], distance_giaoduc[i], distance_phapluat[i])\n",
    "    if max_dist == distance_giaoduc[i] : \n",
    "        predicted.append(0)\n",
    "    elif max_dist == distance_chinhtri[i]: \n",
    "        predicted.append(1)\n",
    "    else: predicted.append(2)"
   ]
  },
  {
   "cell_type": "code",
   "execution_count": 54,
   "metadata": {},
   "outputs": [
    {
     "name": "stdout",
     "output_type": "stream",
     "text": [
      "0.2\n"
     ]
    }
   ],
   "source": [
    "print(accuracy_score(predicted, Y_test))"
   ]
  }
 ],
 "metadata": {
  "kernelspec": {
   "display_name": "Python 3",
   "language": "python",
   "name": "python3"
  },
  "language_info": {
   "codemirror_mode": {
    "name": "ipython",
    "version": 3
   },
   "file_extension": ".py",
   "mimetype": "text/x-python",
   "name": "python",
   "nbconvert_exporter": "python",
   "pygments_lexer": "ipython3",
   "version": "3.6.5"
  }
 },
 "nbformat": 4,
 "nbformat_minor": 2
}
