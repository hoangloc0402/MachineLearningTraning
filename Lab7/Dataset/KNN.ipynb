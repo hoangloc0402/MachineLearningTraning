{
 "cells": [
  {
   "cell_type": "code",
   "execution_count": 274,
   "metadata": {},
   "outputs": [],
   "source": [
    "import numpy as np\n",
    "from sklearn.feature_extraction.text import TfidfVectorizer\n",
    "from sklearn.neighbors import KNeighborsClassifier\n",
    "from sklearn.metrics import accuracy_score"
   ]
  },
  {
   "cell_type": "code",
   "execution_count": 275,
   "metadata": {},
   "outputs": [],
   "source": [
    "# Khai báo các file cần load lên (thuộc tập train)\n",
    "fileList = [\"giaoduc\" + str(i) + \".txt\" for i in range(50)]\n",
    "fileList = fileList + [\"chinhtri\" + str(i) + \".txt\" for i in range(50)]\n",
    "fileList = fileList + [\"phapluat\" + str(i) + \".txt\" for i in range(50)]\n",
    "fileList = fileList + [\"suckhoe\" + str(i) + \".txt\" for i in range(50)]\n",
    "\n",
    "# Khai báo các file cần load lên (thuộc tập test)\n",
    "fileList = fileList + [\"giaoduc\" + str(i) + \".txt\" for i in range(50,60)]\n",
    "fileList = fileList + [\"chinhtri\" + str(i) + \".txt\" for i in range(50,60)]\n",
    "fileList = fileList + [\"phapluat\" + str(i) + \".txt\" for i in range(50,60)]\n",
    "fileList = fileList + [\"suckhoe\" + str(i) + \".txt\" for i in range(50,70)]\n",
    "\n",
    "X = TfidfVectorizer(input='filename').fit_transform(fileList).toarray()\n",
    "\n",
    "# 200 phần tử đầu thuộc tập train\n",
    "X_train = X[:200]\n",
    "# 50 phần từ sau thuộc tập test\n",
    "X_test = X[200:250]"
   ]
  },
  {
   "cell_type": "code",
   "execution_count": 276,
   "metadata": {},
   "outputs": [],
   "source": [
    "Y_train = []\n",
    "Y_test = []\n",
    "\n",
    "# Tạo vector chứa nhãn của tập train\n",
    "for i in range(0,200):\n",
    "    if (i<50):\n",
    "        Y_train.append(0) \n",
    "    elif (i<100):\n",
    "        Y_train.append(1)\n",
    "    elif (i<150):\n",
    "        Y_train.append(2)\n",
    "    else:\n",
    "        Y_train.append(3)\n",
    "        \n",
    "# Tạo vector chứa nhãn đúng của tập test, dùng để so sánh với kết quả predict        \n",
    "for i in range(0,50):\n",
    "    if (i<10):\n",
    "        Y_test.append(0) \n",
    "    elif (i<20):\n",
    "        Y_test.append(1)\n",
    "    elif (i<30):\n",
    "        Y_test.append(2)\n",
    "    else:\n",
    "        Y_test.append(3)"
   ]
  },
  {
   "cell_type": "code",
   "execution_count": 277,
   "metadata": {},
   "outputs": [
    {
     "name": "stdout",
     "output_type": "stream",
     "text": [
      "970200\n",
      "[0, 0, 0, 0, 0, 0, 0, 0, 0, 0, 0, 0, 0, 0, 0, 0, 0, 0, 0, 0, 0, 0, 0, 0, 0, 0, 0, 0, 0, 0, 0, 0, 0, 0, 0, 0, 0, 0, 0, 0, 0, 0, 0, 0, 0, 0, 0, 0, 0, 0, 1, 1, 1, 1, 1, 1, 1, 1, 1, 1, 1, 1, 1, 1, 1, 1, 1, 1, 1, 1, 1, 1, 1, 1, 1, 1, 1, 1, 1, 1, 1, 1, 1, 1, 1, 1, 1, 1, 1, 1, 1, 1, 1, 1, 1, 1, 1, 1, 1, 1, 2, 2, 2, 2, 2, 2, 2, 2, 2, 2, 2, 2, 2, 2, 2, 2, 2, 2, 2, 2, 2, 2, 2, 2, 2, 2, 2, 2, 2, 2, 2, 2, 2, 2, 2, 2, 2, 2, 2, 2, 2, 2, 2, 2, 2, 2, 2, 2, 2, 2, 3, 3, 3, 3, 3, 3, 3, 3, 3, 3, 3, 3, 3, 3, 3, 3, 3, 3, 3, 3, 3, 3, 3, 3, 3, 3, 3, 3, 3, 3, 3, 3, 3, 3, 3, 3, 3, 3, 3, 3, 3, 3, 3, 3, 3, 3, 3, 3, 3, 3]\n"
     ]
    },
    {
     "data": {
      "text/plain": [
       "KNeighborsClassifier(algorithm='auto', leaf_size=30, metric='minkowski',\n",
       "           metric_params=None, n_jobs=1, n_neighbors=5, p=2,\n",
       "           weights='uniform')"
      ]
     },
     "execution_count": 277,
     "metadata": {},
     "output_type": "execute_result"
    }
   ],
   "source": [
    "neigh = KNeighborsClassifier(n_neighbors=5)\n",
    "print(X_train.size)\n",
    "print(Y_train)\n",
    "neigh.fit(X_train,Y_train)"
   ]
  },
  {
   "cell_type": "code",
   "execution_count": 278,
   "metadata": {},
   "outputs": [
    {
     "data": {
      "text/plain": [
       "0.9"
      ]
     },
     "execution_count": 278,
     "metadata": {},
     "output_type": "execute_result"
    }
   ],
   "source": [
    "# Predict kết quả\n",
    "Y_predict = neigh.predict(X_test)\n",
    "\n",
    "# So sánh để tính độ chính xác\n",
    "accuracy_score(Y_predict, Y_test)"
   ]
  }
 ],
 "metadata": {
  "kernelspec": {
   "display_name": "Python 3",
   "language": "python",
   "name": "python3"
  },
  "language_info": {
   "codemirror_mode": {
    "name": "ipython",
    "version": 3
   },
   "file_extension": ".py",
   "mimetype": "text/x-python",
   "name": "python",
   "nbconvert_exporter": "python",
   "pygments_lexer": "ipython3",
   "version": "3.6.5"
  }
 },
 "nbformat": 4,
 "nbformat_minor": 2
}
