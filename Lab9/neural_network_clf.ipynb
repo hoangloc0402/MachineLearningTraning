{
  "nbformat": 4,
  "nbformat_minor": 0,
  "metadata": {
    "colab": {
      "name": "neural_network_clf.ipynb",
      "version": "0.3.2",
      "provenance": [],
      "collapsed_sections": []
    },
    "kernelspec": {
      "name": "python3",
      "display_name": "Python 3"
    },
    "accelerator": "GPU"
  },
  "cells": [
    {
      "metadata": {
        "id": "tYsCAgYsPvIv",
        "colab_type": "code",
        "colab": {
          "base_uri": "https://localhost:8080/",
          "height": 35
        },
        "outputId": "3a83930e-7513-408f-a5b2-7b08bc387197"
      },
      "cell_type": "code",
      "source": [
        "import keras\n",
        "from keras import Sequential\n",
        "from keras.layers import Dense\n",
        "from keras.utils import to_categorical as onehot\n",
        "import h5py\n",
        "import sys\n",
        "import numpy as np\n",
        "from sklearn.metrics import classification_report\n",
        "from sklearn.metrics import accuracy_score\n",
        "from sklearn.model_selection import train_test_split as split\n",
        "from google.colab import drive"
      ],
      "execution_count": 1,
      "outputs": [
        {
          "output_type": "stream",
          "text": [
            "Using TensorFlow backend.\n"
          ],
          "name": "stderr"
        }
      ]
    },
    {
      "metadata": {
        "id": "Q5U0OMObQU5h",
        "colab_type": "code",
        "colab": {
          "base_uri": "https://localhost:8080/",
          "height": 128
        },
        "outputId": "38d04444-46d2-43d3-f365-85afd5d59b8c"
      },
      "cell_type": "code",
      "source": [
        "drive.mount('/content/drive')\n",
        "sys.path.append('drive/My Drive/Colab Notebooks/') "
      ],
      "execution_count": 2,
      "outputs": [
        {
          "output_type": "stream",
          "text": [
            "Go to this URL in a browser: https://accounts.google.com/o/oauth2/auth?client_id=947318989803-6bn6qk8qdgf4n4g3pfee6491hc0brc4i.apps.googleusercontent.com&redirect_uri=urn%3Aietf%3Awg%3Aoauth%3A2.0%3Aoob&scope=email%20https%3A%2F%2Fwww.googleapis.com%2Fauth%2Fdocs.test%20https%3A%2F%2Fwww.googleapis.com%2Fauth%2Fdrive%20https%3A%2F%2Fwww.googleapis.com%2Fauth%2Fdrive.photos.readonly%20https%3A%2F%2Fwww.googleapis.com%2Fauth%2Fpeopleapi.readonly&response_type=code\n",
            "\n",
            "Enter your authorization code:\n",
            "··········\n",
            "Mounted at /content/drive\n"
          ],
          "name": "stdout"
        }
      ]
    },
    {
      "metadata": {
        "id": "mu0qgg9KQ2Rv",
        "colab_type": "code",
        "colab": {}
      },
      "cell_type": "code",
      "source": [
        "test_data_path = 'drive/My Drive/Colab Notebooks/test_guitar_vs_nonguitar.h5'\n",
        "train_data_path = 'drive/My Drive/Colab Notebooks/train_guitar_vs_nonguitar.h5'\n",
        "data_train = h5py.File(train_data_path, 'r')\n",
        "data_test = h5py.File(test_data_path, 'r')\n",
        "X = data_train['train_set_x'].value.flatten().reshape(300, 64*64*3)\n",
        "y = data_train['train_set_y'].value\n",
        "X = np.concatenate((X, data_test['test_set_x'].value.flatten().reshape(200, 64*64*3)), axis = 0)\n",
        "y = np.concatenate((y, data_test['test_set_y'].value), axis = 0)\n",
        "y  = onehot(y, 2)"
      ],
      "execution_count": 0,
      "outputs": []
    },
    {
      "metadata": {
        "id": "DBtCsP4UEpwW",
        "colab_type": "code",
        "colab": {
          "base_uri": "https://localhost:8080/",
          "height": 90
        },
        "outputId": "00383102-910a-4ea6-9bc9-23606c7eed9d"
      },
      "cell_type": "code",
      "source": [
        "X_train, X_test, y_train, y_test = split(X, y, test_size = 0.2, random_state = 1511849)\n",
        "print(X_train.shape)\n",
        "print(X_test.shape)\n",
        "print(y_train.shape)\n",
        "print(y_test.shape)"
      ],
      "execution_count": 4,
      "outputs": [
        {
          "output_type": "stream",
          "text": [
            "(400, 12288)\n",
            "(100, 12288)\n",
            "(400, 2)\n",
            "(100, 2)\n"
          ],
          "name": "stdout"
        }
      ]
    },
    {
      "metadata": {
        "id": "Hrl2owJDkgmE",
        "colab_type": "text"
      },
      "cell_type": "markdown",
      "source": [
        "# One layer"
      ]
    },
    {
      "metadata": {
        "id": "W7jSQGDRR5Mv",
        "colab_type": "code",
        "colab": {}
      },
      "cell_type": "code",
      "source": [
        "model_one_layer = Sequential()\n",
        "model_one_layer.add(Dense(2, activation='softmax'))\n",
        "model_one_layer.compile(\n",
        "              loss=keras.losses.categorical_crossentropy,\n",
        "              optimizer = 'sgd',\n",
        "              metrics=['accuracy'])"
      ],
      "execution_count": 0,
      "outputs": []
    },
    {
      "metadata": {
        "id": "DzW7nUnmUi88",
        "colab_type": "code",
        "colab": {}
      },
      "cell_type": "code",
      "source": [
        "batch_size = 100\n",
        "num_epoch = 800\n",
        "\n",
        "model_log = model_one_layer.fit(\n",
        "                                X_train, y_train,\n",
        "                                batch_size = batch_size,\n",
        "                                epochs = num_epoch,\n",
        "                                verbose = 0,\n",
        "                                validation_data=(X_test[0:50], y_test[0:50]))"
      ],
      "execution_count": 0,
      "outputs": []
    },
    {
      "metadata": {
        "id": "EUvb4d76WegU",
        "colab_type": "code",
        "colab": {
          "base_uri": "https://localhost:8080/",
          "height": 54
        },
        "outputId": "d765a9a0-c370-41fc-9fc8-390d7fb5e46c"
      },
      "cell_type": "code",
      "source": [
        "score = model_one_layer.evaluate(X_test, y_test,verbose=0)\n",
        "print('Test loss:', score[0]) \n",
        "print('Test accuracy:', score[1])"
      ],
      "execution_count": 36,
      "outputs": [
        {
          "output_type": "stream",
          "text": [
            "Test loss: 6.930781326293945\n",
            "Test accuracy: 0.57\n"
          ],
          "name": "stdout"
        }
      ]
    },
    {
      "metadata": {
        "id": "C7zHShOqlJW2",
        "colab_type": "text"
      },
      "cell_type": "markdown",
      "source": [
        "# Two Layers"
      ]
    },
    {
      "metadata": {
        "id": "8kZldPg2edVx",
        "colab_type": "code",
        "colab": {}
      },
      "cell_type": "code",
      "source": [
        "model_two_layer = Sequential()\n",
        "model_two_layer.add(Dense(100, activation='sigmoid'))\n",
        "model_two_layer.add(Dense(2, activation='softmax'))\n",
        "model_two_layer.compile(\n",
        "              loss=keras.losses.categorical_crossentropy,\n",
        "              optimizer = 'sgd',\n",
        "              metrics=['accuracy'])"
      ],
      "execution_count": 0,
      "outputs": []
    },
    {
      "metadata": {
        "id": "XPsd36DMloaR",
        "colab_type": "code",
        "colab": {}
      },
      "cell_type": "code",
      "source": [
        "batch_size = 100\n",
        "num_epoch = 800\n",
        "\n",
        "model_log = model_two_layer.fit(\n",
        "                                X_train, y_train,\n",
        "                                batch_size = batch_size,\n",
        "                                epochs = num_epoch,\n",
        "                                verbose = 0,\n",
        "                                validation_data=(X_test[0:50], y_test[0:50]))"
      ],
      "execution_count": 0,
      "outputs": []
    },
    {
      "metadata": {
        "id": "sjS2o6FZloyB",
        "colab_type": "code",
        "colab": {
          "base_uri": "https://localhost:8080/",
          "height": 54
        },
        "outputId": "9207b032-094c-4054-c0df-0434e46dc0e0"
      },
      "cell_type": "code",
      "source": [
        "score = model_two_layer.evaluate(X_test, y_test,verbose=0)\n",
        "print('Test loss:', score[0]) \n",
        "print('Test accuracy:', score[1])"
      ],
      "execution_count": 41,
      "outputs": [
        {
          "output_type": "stream",
          "text": [
            "Test loss: 0.7069523048400879\n",
            "Test accuracy: 0.56\n"
          ],
          "name": "stdout"
        }
      ]
    },
    {
      "metadata": {
        "id": "WCDQu6OUmC08",
        "colab_type": "text"
      },
      "cell_type": "markdown",
      "source": [
        "# Three Layers"
      ]
    },
    {
      "metadata": {
        "id": "9AB_ECZamHR0",
        "colab_type": "code",
        "colab": {}
      },
      "cell_type": "code",
      "source": [
        "model_three_layer = Sequential()\n",
        "model_three_layer.add(Dense(1200, activation='relu'))\n",
        "model_three_layer.add(Dense(500, activation='sigmoid'))\n",
        "model_three_layer.add(Dense(2, activation='softmax'))\n",
        "model_three_layer.compile(\n",
        "              loss=keras.losses.categorical_crossentropy,\n",
        "              optimizer = 'sgd',\n",
        "              metrics=['accuracy'])"
      ],
      "execution_count": 0,
      "outputs": []
    },
    {
      "metadata": {
        "id": "e66qY4SrmHg0",
        "colab_type": "code",
        "colab": {}
      },
      "cell_type": "code",
      "source": [
        "batch_size = 100\n",
        "num_epoch = 800\n",
        "\n",
        "model_log = model_three_layer.fit(\n",
        "                                X_train, y_train,\n",
        "                                batch_size = batch_size,\n",
        "                                epochs = num_epoch,\n",
        "                                verbose = 0,\n",
        "                                validation_data=(X_test[0:50], y_test[0:50]))"
      ],
      "execution_count": 0,
      "outputs": []
    },
    {
      "metadata": {
        "id": "7n3BnC05mHpE",
        "colab_type": "code",
        "colab": {
          "base_uri": "https://localhost:8080/",
          "height": 54
        },
        "outputId": "1c0c1595-dabb-40bf-e376-86e71985b700"
      },
      "cell_type": "code",
      "source": [
        "score = model_three_layer.evaluate(X_test, y_test,verbose=0)\n",
        "print('Test loss:', score[0]) \n",
        "print('Test accuracy:', score[1])"
      ],
      "execution_count": 16,
      "outputs": [
        {
          "output_type": "stream",
          "text": [
            "Test loss: 1.0942261266708373\n",
            "Test accuracy: 0.77\n"
          ],
          "name": "stdout"
        }
      ]
    },
    {
      "metadata": {
        "id": "TFzkSiMBmIF0",
        "colab_type": "text"
      },
      "cell_type": "markdown",
      "source": [
        "# Four Layers"
      ]
    },
    {
      "metadata": {
        "id": "8-wlFeexmKml",
        "colab_type": "code",
        "colab": {}
      },
      "cell_type": "code",
      "source": [
        "model_four_layer = Sequential()\n",
        "model_four_layer.add(Dense(1200, activation='relu'))\n",
        "model_four_layer.add(Dense(500, activation='sigmoid'))\n",
        "model_four_layer.add(Dense(100, activation='sigmoid'))\n",
        "model_four_layer.add(Dense(2, activation='softmax'))\n",
        "model_four_layer.compile(\n",
        "              loss=keras.losses.categorical_crossentropy,\n",
        "              optimizer = 'sgd',\n",
        "              metrics=['accuracy'])"
      ],
      "execution_count": 0,
      "outputs": []
    },
    {
      "metadata": {
        "id": "mkNDBwajmKrG",
        "colab_type": "code",
        "colab": {}
      },
      "cell_type": "code",
      "source": [
        "batch_size = 100\n",
        "num_epoch = 800\n",
        "\n",
        "model_log = model_four_layer.fit(\n",
        "                                X_train, y_train,\n",
        "                                batch_size = batch_size,\n",
        "                                epochs = num_epoch,\n",
        "                                verbose = 0,\n",
        "                                validation_data=(X_test[0:50], y_test[0:50]))"
      ],
      "execution_count": 0,
      "outputs": []
    },
    {
      "metadata": {
        "id": "wRry86e1mKvU",
        "colab_type": "code",
        "colab": {
          "base_uri": "https://localhost:8080/",
          "height": 54
        },
        "outputId": "9cfc6579-ee8e-4c17-95d5-62d482942193"
      },
      "cell_type": "code",
      "source": [
        "\n",
        "score = model_four_layer.evaluate(X_test, y_test,verbose=0)\n",
        "print('Test loss:', score[0]) \n",
        "print('Test accuracy:', score[1])"
      ],
      "execution_count": 19,
      "outputs": [
        {
          "output_type": "stream",
          "text": [
            "Test loss: 0.8388258409500122\n",
            "Test accuracy: 0.78\n"
          ],
          "name": "stdout"
        }
      ]
    }
  ]
}