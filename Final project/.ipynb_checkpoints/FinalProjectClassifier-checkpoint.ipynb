{
 "cells": [
  {
   "cell_type": "code",
   "execution_count": 37,
   "metadata": {},
   "outputs": [],
   "source": [
    "import pandas\n",
    "from sklearn.feature_extraction.text import TfidfVectorizer\n",
    "from sklearn.neighbors import KNeighborsClassifier\n",
    "from sklearn.metrics import accuracy_score\n",
    "from sklearn.pipeline import Pipeline\n",
    "from sklearn.svm import SVC, LinearSVC, NuSVC\n",
    "from sklearn.naive_bayes import MultinomialNB\n",
    "from sklearn.naive_bayes import GaussianNB\n",
    "from sklearn.model_selection import cross_val_score\n",
    "from sklearn.model_selection import train_test_split\n",
    "from sklearn.model_selection import GridSearchCV"
   ]
  },
  {
   "cell_type": "code",
   "execution_count": 94,
   "metadata": {},
   "outputs": [],
   "source": [
    "def print_cross_validation_accuracy(model, x, y, cross_val):\n",
    "    scores = cross_val_score(model, x, y, cv = cross_val)\n",
    "    print(scores)\n",
    "    print(\"Accuracy: %0.2f (+/- %0.2f)\" % (scores.mean(), scores.std() * 2))"
   ]
  },
  {
   "cell_type": "code",
   "execution_count": 95,
   "metadata": {},
   "outputs": [],
   "source": [
    "products_data = pandas.DataFrame(pandas.read_csv(\"products.csv\", sep = ','))\n",
    "products_data = products_data[products_data.groupby('label_category')['label_category'].transform('count').ge(8)]\n",
    "products_label = products_data[['label_category']].values.ravel()\n",
    "products_data_text=[]\n",
    "for index, row in products_data.iterrows():\n",
    "    products_data_text.append(str(row['top_description']) + '\\n' +\n",
    "                          str(row['name']) + '\\n' +\n",
    "                          str(row['brand']) + '\\n' +\n",
    "                          str(row['base_category']) + '\\n' +\n",
    "                          str(row['location']) + '\\n' +\n",
    "                          str(row['feature_description']) )"
   ]
  },
  {
   "cell_type": "code",
   "execution_count": 98,
   "metadata": {},
   "outputs": [],
   "source": [
    "X_text = products_data_text\n",
    "X_text = TfidfVectorizer().fit_transform(X_text).toarray()\n",
    "y_text = products_label\n",
    "X_text_train, X_text_test, y_text_train, y_text_test = train_test_split(X_text, y_text, test_size=0.33, random_state=1511849)"
   ]
  },
  {
   "cell_type": "code",
   "execution_count": 99,
   "metadata": {},
   "outputs": [
    {
     "name": "stdout",
     "output_type": "stream",
     "text": [
      "[0.82819383 0.85972851 0.88262911 0.87864078 0.81313131]\n",
      "Accuracy: 0.85 (+/- 0.06)\n"
     ]
    }
   ],
   "source": [
    "#knn_clf = KNeighborsClassifier(n_neighbors=7)\n",
    "\n",
    "text_clf = Pipeline([('clf', LinearSVC())])\n",
    "text_clf.fit(X_text_train, y_text_train)\n",
    "\n",
    "print_cross_validation_accuracy(model = text_clf, x = X_text, y = y_text, cross_val = 5)"
   ]
  },
  {
   "cell_type": "code",
   "execution_count": null,
   "metadata": {},
   "outputs": [],
   "source": []
  }
 ],
 "metadata": {
  "kernelspec": {
   "display_name": "Python 3",
   "language": "python",
   "name": "python3"
  },
  "language_info": {
   "codemirror_mode": {
    "name": "ipython",
    "version": 3
   },
   "file_extension": ".py",
   "mimetype": "text/x-python",
   "name": "python",
   "nbconvert_exporter": "python",
   "pygments_lexer": "ipython3",
   "version": "3.6.5"
  }
 },
 "nbformat": 4,
 "nbformat_minor": 2
}
