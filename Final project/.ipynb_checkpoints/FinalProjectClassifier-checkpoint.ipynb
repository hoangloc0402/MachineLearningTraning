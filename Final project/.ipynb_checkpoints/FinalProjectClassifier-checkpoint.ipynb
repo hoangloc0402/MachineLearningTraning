{
 "cells": [
  {
   "cell_type": "code",
   "execution_count": 1,
   "metadata": {},
   "outputs": [],
   "source": [
    "import pandas\n",
    "import math\n",
    "from sklearn.feature_extraction.text import TfidfVectorizer\n",
    "from sklearn.neighbors import KNeighborsClassifier\n",
    "from sklearn.ensemble import RandomForestClassifier\n",
    "from sklearn.metrics import accuracy_score\n",
    "from sklearn.pipeline import Pipeline\n",
    "from sklearn.svm import SVC, LinearSVC, NuSVC\n",
    "from sklearn.naive_bayes import MultinomialNB\n",
    "from sklearn.naive_bayes import GaussianNB\n",
    "from sklearn.model_selection import cross_val_score\n",
    "from sklearn.model_selection import train_test_split\n",
    "from sklearn.model_selection import GridSearchCV"
   ]
  },
  {
   "cell_type": "code",
   "execution_count": 2,
   "metadata": {},
   "outputs": [],
   "source": [
    "def print_cross_validation_accuracy(model, x, y, cross_val):\n",
    "    scores = cross_val_score(model, x, y, cv = cross_val)\n",
    "    print(scores)\n",
    "    print(\"Accuracy: %0.2f (+/- %0.2f)\" % (scores.mean(), scores.std() * 2))"
   ]
  },
  {
   "cell_type": "code",
   "execution_count": 3,
   "metadata": {},
   "outputs": [],
   "source": [
    "products_data = pandas.DataFrame(pandas.read_csv(\"products.csv\", sep = ','))\n",
    "products_data = products_data[products_data.groupby('label_category')['label_category'].transform('count').ge(8)]\n",
    "products_label = products_data[['label_category']].values.ravel()\n",
    "products_data_text=[]\n",
    "for index, row in products_data.iterrows():\n",
    "    products_data_text.append(                         \n",
    "                          str(row['name']) +         \n",
    "                          str(row['top_description']) + \n",
    "                          str(row['feature_description']))"
   ]
  },
  {
   "cell_type": "code",
   "execution_count": 4,
   "metadata": {},
   "outputs": [
    {
     "name": "stdout",
     "output_type": "stream",
     "text": [
      "[0.81938326 0.85520362 0.87793427 0.87378641 0.80808081]\n",
      "Accuracy: 0.85 (+/- 0.06)\n"
     ]
    }
   ],
   "source": [
    "X_text = TfidfVectorizer().fit_transform(products_data_text).toarray()\n",
    "y_text = products_label\n",
    "X_text_train, X_text_test, y_text_train, y_text_test = train_test_split(X_text, y_text, test_size=0.33, random_state=1511849)\n",
    "\n",
    "#knn_clf = KNeighborsClassifier(n_neighbors=7)\n",
    "\n",
    "text_clf = Pipeline([('clf', LinearSVC())])\n",
    "text_clf.fit(X_text_train, y_text_train)\n",
    "\n",
    "print_cross_validation_accuracy(model = text_clf, x = X_text, y = y_text, cross_val = 5)"
   ]
  },
  {
   "cell_type": "code",
   "execution_count": 102,
   "metadata": {},
   "outputs": [
    {
     "name": "stdout",
     "output_type": "stream",
     "text": [
      "                 store       brand    base_category    location  \\\n",
      "0  Ho&#xE0;ng V&#x169;      Damtuh  Bách Hóa Online   Hàn Quốc    \n",
      "2                  NaN      KOKOMI  Bách Hóa Online   Việt Nam    \n",
      "3         Tiki Trading       Sasco  Bách Hóa Online   Việt Nam    \n",
      "4         Tiki Trading      Micoem  Bách Hóa Online   Việt Nam    \n",
      "5         Tiki Trading  Milaganics  Bách Hóa Online   Việt Nam    \n",
      "\n",
      "   price/0/origin  \n",
      "0        399000.0  \n",
      "2         81000.0  \n",
      "3        335000.0  \n",
      "4        182000.0  \n",
      "5        300000.0  \n"
     ]
    }
   ],
   "source": [
    "label_to_pick = ['store','brand', 'base_category', 'location', 'price/0/origin']\n",
    "# '__v'\n",
    "products_data_tabular = products_data.copy()[label_to_pick]\n",
    "print(products_data_tabular.head())"
   ]
  },
  {
   "cell_type": "code",
   "execution_count": 103,
   "metadata": {},
   "outputs": [],
   "source": [
    "store_list = []\n",
    "brand_list = []\n",
    "base_category_list = []\n",
    "location_list = []\n",
    "for index, row in products_data_tabular.iterrows():\n",
    "    current_store = str(row['store'])\n",
    "    current_brand = str(row['brand'])\n",
    "    current_base_category = str(row['base_category'])\n",
    "    current_location = str(row['location'])    \n",
    "    if current_store not in store_list:\n",
    "        store_list.append(current_store)\n",
    "    if current_brand not in brand_list:\n",
    "        brand_list.append(current_brand)    \n",
    "    if current_base_category not in base_category_list:\n",
    "        base_category_list.append(current_base_category)   \n",
    "    if current_location not in location_list:\n",
    "        location_list.append(current_location)        \n",
    "#     if math.isnan(row['price/0/current']):\n",
    "#         products_data_tabular.loc[index, 'price/0/current'] = 0\n",
    "    if math.isnan(row['price/0/origin']):\n",
    "        products_data_tabular.loc[index, 'price/0/origin'] = 0         \n",
    "    products_data_tabular.loc[index, 'store'] = store_list.index(current_store)\n",
    "    products_data_tabular.loc[index, 'brand'] = brand_list.index(current_brand)\n",
    "    products_data_tabular.loc[index, 'base_category'] = base_category_list.index(current_base_category)\n",
    "    products_data_tabular.loc[index, 'location'] = location_list.index(current_location)"
   ]
  },
  {
   "cell_type": "code",
   "execution_count": 105,
   "metadata": {},
   "outputs": [
    {
     "name": "stderr",
     "output_type": "stream",
     "text": [
      "/home/cpu10133-local/.local/lib/python3.5/site-packages/sklearn/model_selection/_split.py:605: Warning: The least populated class in y has only 9 members, which is too few. The minimum number of members in any class cannot be less than n_splits=10.\n",
      "  % (min_groups, self.n_splits)), Warning)\n"
     ]
    },
    {
     "name": "stdout",
     "output_type": "stream",
     "text": [
      "[0.49180328 0.61666667 0.63157895 0.70909091 0.72641509 0.63809524\n",
      " 0.66336634 0.60606061 0.57291667 0.40217391]\n",
      "Accuracy: 0.61 (+/- 0.19)\n"
     ]
    }
   ],
   "source": [
    "random_forest_clf = RandomForestClassifier(n_estimators=100, oob_score=True, random_state=15118)\n",
    "print_cross_validation_accuracy(model = random_forest_clf, x = products_data_tabular, y = products_label, cross_val = 10)"
   ]
  },
  {
   "cell_type": "code",
   "execution_count": null,
   "metadata": {},
   "outputs": [],
   "source": []
  }
 ],
 "metadata": {
  "kernelspec": {
   "display_name": "Python 3",
   "language": "python",
   "name": "python3"
  },
  "language_info": {
   "codemirror_mode": {
    "name": "ipython",
    "version": 3
   },
   "file_extension": ".py",
   "mimetype": "text/x-python",
   "name": "python",
   "nbconvert_exporter": "python",
   "pygments_lexer": "ipython3",
   "version": "3.5.2"
  }
 },
 "nbformat": 4,
 "nbformat_minor": 2
}
