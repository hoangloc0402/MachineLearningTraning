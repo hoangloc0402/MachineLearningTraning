{
 "cells": [
  {
   "cell_type": "code",
   "execution_count": 64,
   "metadata": {},
   "outputs": [],
   "source": [
    "import pandas\n",
    "import math\n",
    "from sklearn.feature_extraction.text import TfidfVectorizer\n",
    "from sklearn.neighbors import KNeighborsClassifier\n",
    "from sklearn.ensemble import RandomForestClassifier\n",
    "from sklearn.metrics import accuracy_score\n",
    "from sklearn.pipeline import Pipeline\n",
    "from sklearn.svm import SVC, LinearSVC, NuSVC\n",
    "from sklearn.naive_bayes import MultinomialNB\n",
    "from sklearn.naive_bayes import GaussianNB\n",
    "from sklearn.model_selection import cross_val_score\n",
    "from sklearn.model_selection import train_test_split\n",
    "from sklearn.model_selection import GridSearchCV"
   ]
  },
  {
   "cell_type": "code",
   "execution_count": 60,
   "metadata": {},
   "outputs": [],
   "source": [
    "def print_cross_validation_accuracy(model, x, y, cross_val):\n",
    "    scores = cross_val_score(model, x, y, cv = cross_val)\n",
    "    print(scores)\n",
    "    print(\"Accuracy: %0.2f (+/- %0.2f)\" % (scores.mean(), scores.std() * 2))"
   ]
  },
  {
   "cell_type": "code",
   "execution_count": 3,
   "metadata": {},
   "outputs": [],
   "source": [
    "products_data = pandas.DataFrame(pandas.read_csv(\"products.csv\", sep = ','))\n",
    "products_data = products_data[products_data.groupby('label_category')['label_category'].transform('count').ge(8)]\n",
    "products_label = products_data[['label_category']].values.ravel()\n",
    "products_data_text=[]\n",
    "for index, row in products_data.iterrows():\n",
    "    products_data_text.append(                         \n",
    "                          str(row['name']) +         \n",
    "                          str(row['top_description']) + \n",
    "                          str(row['feature_description']))"
   ]
  },
  {
   "cell_type": "code",
   "execution_count": 4,
   "metadata": {},
   "outputs": [
    {
     "name": "stdout",
     "output_type": "stream",
     "text": [
      "[0.81938326 0.85520362 0.87793427 0.87378641 0.80808081]\n",
      "Accuracy: 0.85 (+/- 0.06)\n"
     ]
    }
   ],
   "source": [
    "X_text = TfidfVectorizer().fit_transform(products_data_text).toarray()\n",
    "y_text = products_label\n",
    "X_text_train, X_text_test, y_text_train, y_text_test = train_test_split(X_text, y_text, test_size=0.33, random_state=1511849)\n",
    "\n",
    "#knn_clf = KNeighborsClassifier(n_neighbors=7)\n",
    "\n",
    "text_clf = Pipeline([('clf', LinearSVC())])\n",
    "text_clf.fit(X_text_train, y_text_train)\n",
    "\n",
    "print_cross_validation_accuracy(model = text_clf, x = X_text, y = y_text, cross_val = 5)"
   ]
  },
  {
   "cell_type": "code",
   "execution_count": 65,
   "metadata": {},
   "outputs": [
    {
     "name": "stdout",
     "output_type": "stream",
     "text": [
      "                 store       brand    base_category  __v    location  \\\n",
      "0  Ho&#xE0;ng V&#x169;      Damtuh  Bách Hóa Online    4   Hàn Quốc    \n",
      "2                  NaN      KOKOMI  Bách Hóa Online    6   Việt Nam    \n",
      "3         Tiki Trading       Sasco  Bách Hóa Online    1   Việt Nam    \n",
      "4         Tiki Trading      Micoem  Bách Hóa Online    4   Việt Nam    \n",
      "5         Tiki Trading  Milaganics  Bách Hóa Online    6   Việt Nam    \n",
      "\n",
      "   price/0/current  price/0/origin  \n",
      "0         199000.0        399000.0  \n",
      "2          70000.0         81000.0  \n",
      "3         317000.0        335000.0  \n",
      "4         174000.0        182000.0  \n",
      "5         139000.0        300000.0  \n"
     ]
    }
   ],
   "source": [
    "products_data_tabular = products_data.copy()\n",
    "products_data_tabular.drop(axis='columns', inplace=True, labels='name')\n",
    "products_data_tabular.drop(axis='columns', inplace=True, labels='label_category')\n",
    "products_data_tabular.drop(axis='columns', inplace=True, labels='url')\n",
    "products_data_tabular.drop(axis='columns', inplace=True, labels='top_description')\n",
    "products_data_tabular.drop(axis='columns', inplace=True, labels='feature_description')\n",
    "products_data_tabular.drop(axis='columns', inplace=True, labels='_id')\n",
    "products_data_tabular.drop(axis='columns', inplace=True, labels='price/0/date')\n",
    "products_data_tabular.drop(axis='columns', inplace=True, labels='price/1/date')\n",
    "products_data_tabular.drop(axis='columns', inplace=True, labels='price/1/current')\n",
    "products_data_tabular.drop(axis='columns', inplace=True, labels='price/1/origin')\n",
    "products_data_tabular.drop(axis='columns', inplace=True, labels='price/2/date')\n",
    "products_data_tabular.drop(axis='columns', inplace=True, labels='price/2/current')\n",
    "products_data_tabular.drop(axis='columns', inplace=True, labels='price/2/origin')\n",
    "products_data_tabular.drop(axis='columns', inplace=True, labels='price/3/date')\n",
    "products_data_tabular.drop(axis='columns', inplace=True, labels='price/3/current')\n",
    "products_data_tabular.drop(axis='columns', inplace=True, labels='price/3/origin')\n",
    "products_data_tabular.drop(axis='columns', inplace=True, labels='price/4/date')\n",
    "products_data_tabular.drop(axis='columns', inplace=True, labels='price/4/current')\n",
    "products_data_tabular.drop(axis='columns', inplace=True, labels='price/4/origin')\n",
    "products_data_tabular.drop(axis='columns', inplace=True, labels='price/5/date')\n",
    "products_data_tabular.drop(axis='columns', inplace=True, labels='price/5/current')\n",
    "products_data_tabular.drop(axis='columns', inplace=True, labels='price/5/origin')\n",
    "products_data_tabular.drop(axis='columns', inplace=True, labels='price/6/date')\n",
    "products_data_tabular.drop(axis='columns', inplace=True, labels='price/6/current')\n",
    "products_data_tabular.drop(axis='columns', inplace=True, labels='price/6/origin')\n",
    "products_data_tabular.drop(axis='columns', inplace=True, labels='price/7/date')\n",
    "products_data_tabular.drop(axis='columns', inplace=True, labels='price/7/current')\n",
    "products_data_tabular.drop(axis='columns', inplace=True, labels='price/7/origin')\n",
    "print(products_data_tabular.head())"
   ]
  },
  {
   "cell_type": "code",
   "execution_count": 66,
   "metadata": {},
   "outputs": [],
   "source": [
    "store_list = []\n",
    "brand_list = []\n",
    "base_category_list = []\n",
    "location_list = []\n",
    "for index, row in products_data_tabular.iterrows():\n",
    "    current_store = str(row['store'])\n",
    "    current_brand = str(row['brand'])\n",
    "    current_base_category = str(row['base_category'])\n",
    "    current_location = str(row['location'])\n",
    "    \n",
    "    if current_store not in store_list:\n",
    "        store_list.append(current_store)\n",
    "    if current_brand not in brand_list:\n",
    "        brand_list.append(current_brand)    \n",
    "    if current_base_category not in base_category_list:\n",
    "        base_category_list.append(current_base_category)   \n",
    "    if current_location not in location_list:\n",
    "        location_list.append(current_location) \n",
    "    if math.isnan(row['price/0/current']):\n",
    "        products_data_tabular.loc[index, 'price/0/current'] = 0\n",
    "    if math.isnan(row['price/0/current']):\n",
    "        products_data_tabular.loc[index, 'price/0/origin'] = 0\n",
    "    products_data_tabular.loc[index, 'store'] = store_list.index(current_store)\n",
    "    products_data_tabular.loc[index, 'brand'] = brand_list.index(current_brand)\n",
    "    products_data_tabular.loc[index, 'base_category'] = base_category_list.index(current_base_category)\n",
    "    products_data_tabular.loc[index, 'location'] = location_list.index(current_location)"
   ]
  },
  {
   "cell_type": "code",
   "execution_count": 56,
   "metadata": {},
   "outputs": [
    {
     "name": "stdout",
     "output_type": "stream",
     "text": [
      "      store  brand  base_category  __v  location  price/0/current  \\\n",
      "0         0      0              0    4         0         199000.0   \n",
      "2         1      1              0    6         1          70000.0   \n",
      "3         2      2              0    1         1         317000.0   \n",
      "4         2      3              0    4         1         174000.0   \n",
      "5         2      4              0    6         1         139000.0   \n",
      "6         2      5              0    4         2          22000.0   \n",
      "7         2      6              0    3         3          62000.0   \n",
      "8         1      7              0    3         0         154000.0   \n",
      "9         1      8              0    2         1          57000.0   \n",
      "10        2      9              0    4         4          84000.0   \n",
      "11        2     10              0    3         1         261000.0   \n",
      "12        3     11              0    2         5         109000.0   \n",
      "13        2     12              0    5         6         169000.0   \n",
      "14        1     13              0    4         1         140000.0   \n",
      "15        4     14              0    5         1         260000.0   \n",
      "16        5     15              0    2         1         141000.0   \n",
      "17        6     16              0    3         1          30600.0   \n",
      "18        7     17              0    5         0          30000.0   \n",
      "19        2     18              0    3         1          61000.0   \n",
      "20        8     19              0    1         6          58500.0   \n",
      "21        9     20              0    3         1         140000.0   \n",
      "23       10     21              0    1         1         120000.0   \n",
      "24        2     22              0    2         4          74000.0   \n",
      "25        2     23              0    4         7          44000.0   \n",
      "26        1     24              0    4         1          29000.0   \n",
      "27        2     25              0    2         8          30000.0   \n",
      "28        2     26              0    3         9              0.0   \n",
      "29        2     27              0    5         9          83000.0   \n",
      "30        1      9              0    5         4          94000.0   \n",
      "32        2     28              0    3         9          57000.0   \n",
      "...     ...    ...            ...  ...       ...              ...   \n",
      "1087      2    496             18    0         6              NaN   \n",
      "1088      2    528             18    1        12              0.0   \n",
      "1089    156    563             18    2        12         700000.0   \n",
      "1090      2    551             18    1        12              0.0   \n",
      "1091    145    564             18    1         1         299000.0   \n",
      "1092      1    512             18    1        35         569000.0   \n",
      "1093      1    565             18    1        33         259000.0   \n",
      "1094      2    566             18    2         1              0.0   \n",
      "1095    157    567             18    1         5         495000.0   \n",
      "1096    113    568             18    2         1          84000.0   \n",
      "1097      2    516             18    3        31              0.0   \n",
      "1098    158    569             18    1        12         129000.0   \n",
      "1100    159    570             18    3         1         141000.0   \n",
      "1101      1    571             18    1         0         379000.0   \n",
      "1102      2    512             18    1        12         519000.0   \n",
      "1103      2    535             18    2         1          99000.0   \n",
      "1104      2    562             18    0        36              NaN   \n",
      "1105      2    539             18    1        12              0.0   \n",
      "1106      2    572             18    1        29              0.0   \n",
      "1107      2    535             18    1         1         109000.0   \n",
      "1108      2    573             18    1         1         239000.0   \n",
      "1109      1    574             18    1        12         449000.0   \n",
      "1110      1    511             18    1         1          99000.0   \n",
      "1111    145    575             18    1        12         699000.0   \n",
      "1112      2    503             18    1         1         144000.0   \n",
      "1113    160    576             18    1         1         205000.0   \n",
      "1114      1    555             18    1         1         229000.0   \n",
      "1115    161    577             18    1         1         119000.0   \n",
      "1116      1    298             18    2        12              0.0   \n",
      "1117      1    512             18    1        12         369000.0   \n",
      "\n",
      "      price/0/origin  \n",
      "0           399000.0  \n",
      "2            81000.0  \n",
      "3           335000.0  \n",
      "4           182000.0  \n",
      "5           300000.0  \n",
      "6            24000.0  \n",
      "7            75000.0  \n",
      "8           220000.0  \n",
      "9            60000.0  \n",
      "10           95000.0  \n",
      "11          282000.0  \n",
      "12          109000.0  \n",
      "13          194000.0  \n",
      "14          140000.0  \n",
      "15          260000.0  \n",
      "16          239000.0  \n",
      "17           40000.0  \n",
      "18           39000.0  \n",
      "19           68000.0  \n",
      "20           78000.0  \n",
      "21          150000.0  \n",
      "23          137000.0  \n",
      "24          117000.0  \n",
      "25           49000.0  \n",
      "26          100000.0  \n",
      "27           40000.0  \n",
      "28               0.0  \n",
      "29           89000.0  \n",
      "30          124000.0  \n",
      "32           76000.0  \n",
      "...              ...  \n",
      "1087             NaN  \n",
      "1088             0.0  \n",
      "1089        750000.0  \n",
      "1090             0.0  \n",
      "1091        380000.0  \n",
      "1092       1119000.0  \n",
      "1093        680000.0  \n",
      "1094             0.0  \n",
      "1095        562000.0  \n",
      "1096        140000.0  \n",
      "1097             0.0  \n",
      "1098        129000.0  \n",
      "1100        157000.0  \n",
      "1101        449000.0  \n",
      "1102        839000.0  \n",
      "1103        199000.0  \n",
      "1104             NaN  \n",
      "1105             0.0  \n",
      "1106             0.0  \n",
      "1107        299000.0  \n",
      "1108        239000.0  \n",
      "1109        548000.0  \n",
      "1110         99000.0  \n",
      "1111        899000.0  \n",
      "1112        182000.0  \n",
      "1113        275000.0  \n",
      "1114        396000.0  \n",
      "1115        180000.0  \n",
      "1116             0.0  \n",
      "1117        729000.0  \n",
      "\n",
      "[1065 rows x 7 columns]\n"
     ]
    }
   ],
   "source": [
    "print(products_data_tabular)"
   ]
  },
  {
   "cell_type": "code",
   "execution_count": 58,
   "metadata": {},
   "outputs": [],
   "source": [
    "random_forest_clf = RandomForestClassifier(n_estimators=550, oob_score=True, random_state=1511849)"
   ]
  },
  {
   "cell_type": "code",
   "execution_count": 67,
   "metadata": {},
   "outputs": [
    {
     "name": "stdout",
     "output_type": "stream",
     "text": [
      "[0.52422907 0.61085973 0.5915493  0.59223301 0.47979798]\n",
      "Accuracy: 0.56 (+/- 0.10)\n"
     ]
    }
   ],
   "source": [
    "print_cross_validation_accuracy(model = random_forest_clf, x = products_data_tabular, y = products_label, cross_val = 5)"
   ]
  },
  {
   "cell_type": "code",
   "execution_count": null,
   "metadata": {},
   "outputs": [],
   "source": []
  }
 ],
 "metadata": {
  "kernelspec": {
   "display_name": "Python 3",
   "language": "python",
   "name": "python3"
  },
  "language_info": {
   "codemirror_mode": {
    "name": "ipython",
    "version": 3
   },
   "file_extension": ".py",
   "mimetype": "text/x-python",
   "name": "python",
   "nbconvert_exporter": "python",
   "pygments_lexer": "ipython3",
   "version": "3.5.2"
  }
 },
 "nbformat": 4,
 "nbformat_minor": 2
}
