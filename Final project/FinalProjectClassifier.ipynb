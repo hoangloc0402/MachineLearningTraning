{
 "cells": [
  {
   "cell_type": "code",
   "execution_count": 37,
   "metadata": {},
   "outputs": [],
   "source": [
    "import pandas\n",
    "from sklearn.feature_extraction.text import TfidfVectorizer\n",
    "from sklearn.neighbors import KNeighborsClassifier\n",
    "from sklearn.metrics import accuracy_score\n",
    "from sklearn.pipeline import Pipeline\n",
    "from sklearn.svm import SVC, LinearSVC, NuSVC\n",
    "from sklearn.naive_bayes import MultinomialNB\n",
    "from sklearn.naive_bayes import GaussianNB\n",
    "from sklearn.model_selection import cross_val_score\n",
    "from sklearn.model_selection import train_test_split\n",
    "from sklearn.model_selection import GridSearchCV"
   ]
  },
  {
   "cell_type": "code",
   "execution_count": 94,
   "metadata": {},
   "outputs": [],
   "source": [
    "def print_cross_validation_accuracy(model, x, y, cross_val):\n",
    "    scores = cross_val_score(model, x, y, cv = cross_val)\n",
    "    print(scores)\n",
    "    print(\"Accuracy: %0.2f (+/- %0.2f)\" % (scores.mean(), scores.std() * 2))"
   ]
  },
  {
   "cell_type": "code",
   "execution_count": 105,
   "metadata": {},
   "outputs": [],
   "source": [
    "products_data = pandas.DataFrame(pandas.read_csv(\"products.csv\", sep = ','))\n",
    "products_data = products_data[products_data.groupby('label_category')['label_category'].transform('count').ge(8)]\n",
    "products_label = products_data[['label_category']].values.ravel()\n",
    "products_data_text=[]\n",
    "for index, row in products_data.iterrows():\n",
    "    products_data_text.append(                         \n",
    "                          str(row['name']) + \n",
    "                          str(row['brand']) + \n",
    "                          str(row['location']) + \n",
    "                          str(row['base_category']) +               \n",
    "                          str(row['top_description']) + \n",
    "                          str(row['feature_description']))"
   ]
  },
  {
   "cell_type": "code",
   "execution_count": 106,
   "metadata": {},
   "outputs": [],
   "source": [
    "X_text = TfidfVectorizer().fit_transform(products_data_text).toarray()\n",
    "y_text = products_label\n",
    "X_text_train, X_text_test, y_text_train, y_text_test = train_test_split(X_text, y_text, test_size=0.33, random_state=1511849)"
   ]
  },
  {
   "cell_type": "code",
   "execution_count": 108,
   "metadata": {},
   "outputs": [
    {
     "name": "stderr",
     "output_type": "stream",
     "text": [
      "c:\\users\\nguyenhoangloc\\appdata\\local\\programs\\python\\python36-32\\lib\\site-packages\\sklearn\\model_selection\\_split.py:605: Warning: The least populated class in y has only 9 members, which is too few. The minimum number of members in any class cannot be less than n_splits=10.\n",
      "  % (min_groups, self.n_splits)), Warning)\n"
     ]
    },
    {
     "name": "stdout",
     "output_type": "stream",
     "text": [
      "[0.8442623  0.85833333 0.88596491 0.87272727 0.91509434 0.86666667\n",
      " 0.9009901  0.8989899  0.84375    0.80434783]\n",
      "Accuracy: 0.87 (+/- 0.06)\n"
     ]
    }
   ],
   "source": [
    "#knn_clf = KNeighborsClassifier(n_neighbors=7)\n",
    "\n",
    "text_clf = Pipeline([('clf', LinearSVC())])\n",
    "text_clf.fit(X_text_train, y_text_train)\n",
    "\n",
    "print_cross_validation_accuracy(model = text_clf, x = X_text, y = y_text, cross_val = 10)"
   ]
  },
  {
   "cell_type": "code",
   "execution_count": null,
   "metadata": {},
   "outputs": [],
   "source": []
  }
 ],
 "metadata": {
  "kernelspec": {
   "display_name": "Python 3",
   "language": "python",
   "name": "python3"
  },
  "language_info": {
   "codemirror_mode": {
    "name": "ipython",
    "version": 3
   },
   "file_extension": ".py",
   "mimetype": "text/x-python",
   "name": "python",
   "nbconvert_exporter": "python",
   "pygments_lexer": "ipython3",
   "version": "3.6.5"
  }
 },
 "nbformat": 4,
 "nbformat_minor": 2
}
