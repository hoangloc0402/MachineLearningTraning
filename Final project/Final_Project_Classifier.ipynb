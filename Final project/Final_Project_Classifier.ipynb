{
 "cells": [
  {
   "cell_type": "code",
   "execution_count": 142,
   "metadata": {},
   "outputs": [],
   "source": [
    "import math\n",
    "import numpy\n",
    "import pandas\n",
    "from sklearn.metrics import accuracy_score\n",
    "from sklearn.feature_extraction.text import TfidfVectorizer\n",
    "from sklearn.neighbors import KNeighborsClassifier\n",
    "from sklearn.ensemble import RandomForestClassifier\n",
    "from sklearn.pipeline import Pipeline\n",
    "from sklearn.svm import LinearSVC\n",
    "from sklearn.model_selection import cross_val_score\n",
    "from sklearn.model_selection import train_test_split"
   ]
  },
  {
   "cell_type": "code",
   "execution_count": 143,
   "metadata": {},
   "outputs": [],
   "source": [
    "def print_cross_validation_accuracy(model, x, y, cross_val):\n",
    "    scores = cross_val_score(model, x, y, cv = cross_val)\n",
    "    print('Cross Validation Accuracy: ', scores)\n",
    "    print('Average Cros-Val Accuracy: ','%0.2f (+/- %0.2f)' % (scores.mean(), scores.std() * 2))"
   ]
  },
  {
   "cell_type": "code",
   "execution_count": 144,
   "metadata": {},
   "outputs": [
    {
     "name": "stdout",
     "output_type": "stream",
     "text": [
      "(1118, 35)\n",
      "(954, 35)\n"
     ]
    }
   ],
   "source": [
    "# Preprocess data, remove labels whose number of instance less than 8\n",
    "products_data = pandas.DataFrame(pandas.read_csv(\"products.csv\", sep = ','))\n",
    "print(products_data.shape)\n",
    "products_data = products_data[\n",
    "                              products_data.groupby('label_category')['label_category']\n",
    "                                           .transform('count')\n",
    "                                           .ge(10)\n",
    "                             ]\n",
    "# Remove rows having unmeaningful value in 'store' col\n",
    "for index, row in products_data.iterrows():\n",
    "    if '#' in str(row['store']):\n",
    "        products_data.drop(index, inplace=True)\n",
    "        \n",
    "products_label = products_data[['label_category']].values.ravel()\n",
    "\n",
    "#---------------------------------------TEXT CLASSIFIER------------------------------------------------\n",
    "# Text part consists of strings in 3 columns: name, top_desc, feature_desc\n",
    "products_data_text = list()\n",
    "for index, row in products_data.iterrows():\n",
    "    products_data_text.append(                         \n",
    "                          str(row['name']) +         \n",
    "                          str(row['top_description']) + \n",
    "                          str(row['feature_description']))\n",
    "print(products_data.shape)"
   ]
  },
  {
   "cell_type": "code",
   "execution_count": 145,
   "metadata": {},
   "outputs": [
    {
     "data": {
      "text/plain": [
       "Pipeline(memory=None,\n",
       "     steps=[('clf', LinearSVC(C=1.0, class_weight=None, dual=True, fit_intercept=True,\n",
       "     intercept_scaling=1, loss='squared_hinge', max_iter=1000,\n",
       "     multi_class='ovr', penalty='l2', random_state=None, tol=0.0001,\n",
       "     verbose=0))])"
      ]
     },
     "execution_count": 145,
     "metadata": {},
     "output_type": "execute_result"
    }
   ],
   "source": [
    "X_text = TfidfVectorizer().fit_transform(products_data_text).toarray()\n",
    "y_text = products_label\n",
    "X_text_train, X_text_test, y_text_train, y_text_test = train_test_split(X_text, \n",
    "                                                                        y_text, \n",
    "                                                                        test_size=0.33, \n",
    "                                                                        random_state=1511849)\n",
    "text_clf = Pipeline([('clf', LinearSVC())])\n",
    "text_clf.fit(X_text_train, y_text_train)"
   ]
  },
  {
   "cell_type": "code",
   "execution_count": 146,
   "metadata": {},
   "outputs": [
    {
     "name": "stdout",
     "output_type": "stream",
     "text": [
      "Accuracy Score:  0.8444444444444444\n"
     ]
    }
   ],
   "source": [
    "predict_text = text_clf.predict(X_text_test)\n",
    "print('Accuracy Score: ',accuracy_score(predict_text, y_text_test))"
   ]
  },
  {
   "cell_type": "code",
   "execution_count": 147,
   "metadata": {},
   "outputs": [
    {
     "name": "stdout",
     "output_type": "stream",
     "text": [
      "Cross Validation Accuracy:  [0.82352941 0.875      0.87958115 0.89502762 0.83146067]\n",
      "Average Cros-Val Accuracy:  0.86 (+/- 0.06)\n"
     ]
    }
   ],
   "source": [
    "print_cross_validation_accuracy(model = text_clf, x = X_text, y = y_text, cross_val = 5)"
   ]
  },
  {
   "cell_type": "code",
   "execution_count": 148,
   "metadata": {},
   "outputs": [
    {
     "name": "stdout",
     "output_type": "stream",
     "text": [
      "(954, 5)\n",
      "          store       brand    base_category      location  price/0/origin\n",
      "2           NaN      KOKOMI  Bách Hóa Online     Việt Nam          81000.0\n",
      "3  Tiki Trading       Sasco  Bách Hóa Online     Việt Nam         335000.0\n",
      "4  Tiki Trading      Micoem  Bách Hóa Online     Việt Nam         182000.0\n",
      "5  Tiki Trading  Milaganics  Bách Hóa Online     Việt Nam         300000.0\n",
      "6  Tiki Trading      Haribo  Bách Hóa Online   Thổ Nhĩ Kỳ          24000.0\n"
     ]
    }
   ],
   "source": [
    "#---------------------------------------TABULAR CLASSIFIER------------------------------------------------\n",
    "# Tabular part consists of cols in label_to_pick list\n",
    "label_to_pick = ['store','brand', 'base_category', 'location', 'price/0/origin']\n",
    "products_data_tabular = products_data.copy()[label_to_pick]\n",
    "\n",
    "# Replace all NaN values\n",
    "for index, row in products_data_tabular.iterrows():\n",
    "    if math.isnan(row['price/0/origin']):\n",
    "        products_data_tabular.loc[index, 'price/0/origin'] = 0 \n",
    "print(products_data_tabular.shape)\n",
    "print(products_data_tabular.head())"
   ]
  },
  {
   "cell_type": "code",
   "execution_count": 149,
   "metadata": {},
   "outputs": [
    {
     "name": "stdout",
     "output_type": "stream",
     "text": [
      "(954, 662)\n"
     ]
    }
   ],
   "source": [
    "# Separate to multi-columns with binary values\n",
    "products_data_tabular_dummies = pandas.get_dummies(\n",
    "    products_data_tabular[['store','brand', 'base_category', 'location']])\n",
    "products_data_tabular_dummies['price/0/origin'] = products_data_tabular['price/0/origin']\n",
    "print(products_data_tabular_dummies.shape)\n",
    "#print(products_data_tabular_dummies.head())"
   ]
  },
  {
   "cell_type": "code",
   "execution_count": 150,
   "metadata": {},
   "outputs": [
    {
     "data": {
      "text/plain": [
       "RandomForestClassifier(bootstrap=True, class_weight=None, criterion='gini',\n",
       "            max_depth=None, max_features='log2', max_leaf_nodes=None,\n",
       "            min_impurity_decrease=0.0, min_impurity_split=None,\n",
       "            min_samples_leaf=1, min_samples_split=2,\n",
       "            min_weight_fraction_leaf=0.0, n_estimators=127, n_jobs=1,\n",
       "            oob_score=True, random_state=15118, verbose=0,\n",
       "            warm_start=False)"
      ]
     },
     "execution_count": 150,
     "metadata": {},
     "output_type": "execute_result"
    }
   ],
   "source": [
    "X_tabular = products_data_tabular_dummies\n",
    "y_tabular = products_label\n",
    "X_tabular_train, X_tabular_test, y_tabular_train, y_tabular_test = train_test_split(\n",
    "                                                                        X_tabular, \n",
    "                                                                        y_tabular, \n",
    "                                                                        test_size=0.33, \n",
    "                                                                        random_state=1511849)\n",
    "random_forest_clf = RandomForestClassifier(n_estimators=127, \n",
    "                                           criterion = 'gini', \n",
    "                                           oob_score=True, \n",
    "                                           max_features = 'log2',\n",
    "                                           random_state=15118)\n",
    "random_forest_clf.fit(X_tabular_train, y_tabular_train)"
   ]
  },
  {
   "cell_type": "code",
   "execution_count": 151,
   "metadata": {},
   "outputs": [
    {
     "name": "stdout",
     "output_type": "stream",
     "text": [
      "Accuracy Score:  0.6730158730158731\n"
     ]
    }
   ],
   "source": [
    "predict_tabular = random_forest_clf.predict(X_tabular_test)\n",
    "print('Accuracy Score: ',accuracy_score(predict_tabular, y_tabular_test))"
   ]
  },
  {
   "cell_type": "code",
   "execution_count": 152,
   "metadata": {},
   "outputs": [
    {
     "name": "stdout",
     "output_type": "stream",
     "text": [
      "Cross Validation Accuracy:  [0.65196078 0.735      0.65968586 0.71270718 0.56741573]\n",
      "Average Cros-Val Accuracy:  0.67 (+/- 0.12)\n"
     ]
    }
   ],
   "source": [
    "print_cross_validation_accuracy(model = random_forest_clf, \n",
    "                                x = products_data_tabular_dummies, \n",
    "                                y = products_label, \n",
    "                                cross_val = 5)"
   ]
  }
 ],
 "metadata": {
  "kernelspec": {
   "display_name": "Python 3",
   "language": "python",
   "name": "python3"
  },
  "language_info": {
   "codemirror_mode": {
    "name": "ipython",
    "version": 3
   },
   "file_extension": ".py",
   "mimetype": "text/x-python",
   "name": "python",
   "nbconvert_exporter": "python",
   "pygments_lexer": "ipython3",
   "version": "3.5.2"
  }
 },
 "nbformat": 4,
 "nbformat_minor": 2
}
