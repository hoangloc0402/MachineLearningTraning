{
 "cells": [
  {
   "cell_type": "markdown",
   "metadata": {},
   "source": [
    "# 1. Chuẩn bị dữ liệu (data preparation)\n",
    "\n",
    "**Thư mục ảnh của bạn đặt trong thư mục datasets/train và datasets/test:**\n",
    "- Đặt tên 'dog_n' với những ảnh label là 'dog' (ví dụ: dog_1.jpeg, dog_2.jpeg...)\n",
    "- Đặt tên 'n' với những ảnh lable là 'non-dog' (ví dụ: 1.jpeg, 2.jpeg...)\n",
    "- Quy cách đặt tên áp dụng cho cả 2 thư mục train và test\n",
    "\n",
    "**Tạo thư mục output:**\n",
    "- Thư mục này sẽ chưa file *.h5 của bạn."
   ]
  },
  {
   "cell_type": "code",
   "execution_count": 24,
   "metadata": {},
   "outputs": [
    {
     "name": "stdout",
     "output_type": "stream",
     "text": [
      "237\n",
      "66\n"
     ]
    }
   ],
   "source": [
    "from random import shuffle\n",
    "import glob\n",
    "\n",
    "hdf5_train_path = 'output/train_dogvnondog.h5'  # file path for the created .hdf5 file\n",
    "hdf5_test_path = 'output/test_dogvnondog.h5'\n",
    "\n",
    "cat_dog_train_path = './datasets/train/*.jpg' # the original data path\n",
    "cat_dog_test_path = 'datasets/test/*.jpg' \n",
    "\n",
    "# get all the image paths \n",
    "train_addrs = glob.glob(cat_dog_train_path)\n",
    "print(len(train_addrs))\n",
    "test_addrs = glob.glob(cat_dog_test_path)\n",
    "print(len(test_addrs))\n",
    "\n",
    "# label the data as 1=dog, 0=nondog\n",
    "train_labels = [1 if 'dog' in addr else 0 for addr in train_addrs] \n",
    "test_labels = [1 if 'dog' in addr else 0 for addr in test_addrs] "
   ]
  },
  {
   "cell_type": "markdown",
   "metadata": {},
   "source": [
    "# 2. Tạo file h5 Object"
   ]
  },
  {
   "cell_type": "code",
   "execution_count": 25,
   "metadata": {},
   "outputs": [],
   "source": [
    "import numpy as np\n",
    "import h5py\n",
    "\n",
    "train_shape = (len(train_addrs), 64, 64, 3)\n",
    "test_shape = (len(test_addrs), 64, 64, 3)\n",
    "\n",
    "# open a hdf5 file and create earrays \n",
    "f_train = h5py.File(hdf5_train_path, mode='w')\n",
    "f_test = h5py.File(hdf5_test_path, mode='w')\n",
    "\n",
    "# create the \"list_classes\" for training dataset\n",
    "f_train.create_dataset(\"list_classes\", (2,), 'S7')\n",
    "class_0 = 'non-dog'\n",
    "class_1 = 'dog'\n",
    "f_train[\"list_classes\"][0]= class_0.encode(\"ascii\", \"ignore\")\n",
    "f_train[\"list_classes\"][1]= class_1.encode(\"ascii\", \"ignore\")\n",
    "\n",
    "# create the \"train_set_x\" for training dataset\n",
    "f_train.create_dataset(\"train_set_x\", train_shape, np.uint8)\n",
    "\n",
    "# create the \"train_set_y\" for training dataset\n",
    "f_train.create_dataset(\"train_set_y\", (len(train_addrs),), np.uint64)\n",
    "f_train[\"train_set_y\"][...] = train_labels\n",
    "\n",
    "# create the \"list_classes\" testing dataset\n",
    "f_test.create_dataset(\"list_classes\", (2,), 'S7')\n",
    "class_0 = 'non-dog'\n",
    "class_1 = 'dog'\n",
    "f_test[\"list_classes\"][0]= class_0.encode(\"ascii\", \"ignore\")\n",
    "f_test[\"list_classes\"][1]= class_1.encode(\"ascii\", \"ignore\")\n",
    "\n",
    "# create the \"test_set_x\" dataset\n",
    "f_test.create_dataset(\"test_set_x\", test_shape, np.uint8)\n",
    "\n",
    "# create the \"test_set_y\" dataset\n",
    "f_test.create_dataset(\"test_set_y\", (len(test_addrs),), np.uint64)\n",
    "f_test[\"test_set_y\"][...] = test_labels"
   ]
  },
  {
   "cell_type": "markdown",
   "metadata": {},
   "source": [
    "# 3. Ghi các hình ảnh vào file h5"
   ]
  },
  {
   "cell_type": "code",
   "execution_count": 26,
   "metadata": {},
   "outputs": [],
   "source": [
    "import cv2\n",
    "\n",
    "# loop over train paths\n",
    "for i in range(len(train_addrs)):\n",
    "  \n",
    "    if i % 1000 == 0 and i > 1:\n",
    "        print ('Train data: {}/{}'.format(i, len(train_addrs)) )\n",
    "\n",
    "    addr = train_addrs[i]\n",
    "    img = cv2.imread(addr)\n",
    "    img = cv2.resize(img, (64, 64), interpolation=cv2.INTER_CUBIC)# resize to (128,128)\n",
    "    img = cv2.cvtColor(img, cv2.COLOR_BGR2RGB) # cv2 load images as BGR, convert it to RGB\n",
    "    f_train[\"train_set_x\"][i, ...] = img[None] \n",
    "\n",
    "f_train.close()\n",
    "\n",
    "# loop over test paths\n",
    "for i in range(len(test_addrs)):\n",
    "  \n",
    "    if i % 1000 == 0 and i > 1:\n",
    "        print ('Test data: {}/{}'.format(i, len(test_addrs)) )\n",
    "\n",
    "    addr = test_addrs[i]\n",
    "    img = cv2.imread(addr)\n",
    "    img = cv2.resize(img, (64, 64), interpolation=cv2.INTER_CUBIC)# resize to (128,128)\n",
    "    img = cv2.cvtColor(img, cv2.COLOR_BGR2RGB) # cv2 load images as BGR, convert it to RGB\n",
    "    f_test[\"test_set_x\"][i, ...] = img[None] \n",
    "\n",
    "f_test.close()\n"
   ]
  },
  {
   "cell_type": "markdown",
   "metadata": {},
   "source": [
    "# 4.Good luck"
   ]
  },
  {
   "cell_type": "markdown",
   "metadata": {},
   "source": [
    "!!!!!"
   ]
  }
 ],
 "metadata": {
  "kernelspec": {
   "display_name": "Python 3",
   "language": "python",
   "name": "python3"
  },
  "language_info": {
   "codemirror_mode": {
    "name": "ipython",
    "version": 3
   },
   "file_extension": ".py",
   "mimetype": "text/x-python",
   "name": "python",
   "nbconvert_exporter": "python",
   "pygments_lexer": "ipython3",
   "version": "3.6.5"
  }
 },
 "nbformat": 4,
 "nbformat_minor": 2
}
