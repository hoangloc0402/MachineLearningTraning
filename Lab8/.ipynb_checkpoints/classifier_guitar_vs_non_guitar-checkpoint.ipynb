{
 "cells": [
  {
   "cell_type": "code",
   "execution_count": 59,
   "metadata": {},
   "outputs": [],
   "source": [
    "import h5py\n",
    "from sklearn.linear_model import LogisticRegression\n",
    "from sklearn.metrics import accuracy_score\n",
    "from sklearn import metrics"
   ]
  },
  {
   "cell_type": "code",
   "execution_count": 63,
   "metadata": {},
   "outputs": [],
   "source": [
    "data_train = h5py.File(\"output\\\\train_guitar_vs_nonguitar.h5\", 'r')\n",
    "data_test = h5py.File(\"output\\\\test_guitar_vs_nonguitar.h5\", 'r')\n",
    "X_train = data_train['train_set_x'].value.flatten().reshape(300, 64*64*3)\n",
    "y_train = data_train['train_set_y'].value\n",
    "X_test = data_test['test_set_x'].value.flatten().reshape(200, 64*64*3)\n",
    "y_test = data_test['test_set_y'].value"
   ]
  },
  {
   "cell_type": "code",
   "execution_count": 64,
   "metadata": {},
   "outputs": [],
   "source": [
    "reg = LogisticRegression()"
   ]
  },
  {
   "cell_type": "code",
   "execution_count": 65,
   "metadata": {},
   "outputs": [
    {
     "data": {
      "text/plain": [
       "LogisticRegression(C=1.0, class_weight=None, dual=False, fit_intercept=True,\n",
       "          intercept_scaling=1, max_iter=100, multi_class='ovr', n_jobs=1,\n",
       "          penalty='l2', random_state=None, solver='liblinear', tol=0.0001,\n",
       "          verbose=0, warm_start=False)"
      ]
     },
     "execution_count": 65,
     "metadata": {},
     "output_type": "execute_result"
    }
   ],
   "source": [
    "reg.fit(X_train, y_train)"
   ]
  },
  {
   "cell_type": "code",
   "execution_count": 67,
   "metadata": {},
   "outputs": [],
   "source": [
    "pred_train = reg.predict(X_train)\n",
    "pred_test = reg.predict(X_test)"
   ]
  },
  {
   "cell_type": "code",
   "execution_count": 74,
   "metadata": {},
   "outputs": [
    {
     "name": "stdout",
     "output_type": "stream",
     "text": [
      "Accurracy predict on train set:  1.0\n",
      "Accurracy predict on test set:  0.675\n"
     ]
    }
   ],
   "source": [
    "print(\"Accurracy predict on train set: \", accuracy_score(pred_train, y_train))\n",
    "print(\"Accurracy predict on test set: \", accuracy_score(pred_test, y_test))"
   ]
  },
  {
   "cell_type": "code",
   "execution_count": 71,
   "metadata": {},
   "outputs": [
    {
     "name": "stdout",
     "output_type": "stream",
     "text": [
      "F_score On train set: \n",
      "             precision    recall  f1-score   support\n",
      "\n",
      "          0       1.00      1.00      1.00       200\n",
      "          1       1.00      1.00      1.00       100\n",
      "\n",
      "avg / total       1.00      1.00      1.00       300\n",
      "\n",
      "F_score On test set: \n",
      "             precision    recall  f1-score   support\n",
      "\n",
      "          0       0.64      0.82      0.72       100\n",
      "          1       0.75      0.53      0.62       100\n",
      "\n",
      "avg / total       0.69      0.68      0.67       200\n",
      "\n"
     ]
    }
   ],
   "source": [
    "print(\"F_score On train set: \")\n",
    "print(metrics.classification_report(y_train, pred_train))\n",
    "print(\"F_score On test set: \")\n",
    "print(metrics.classification_report(y_test, pred_test))"
   ]
  },
  {
   "cell_type": "code",
   "execution_count": null,
   "metadata": {},
   "outputs": [],
   "source": []
  }
 ],
 "metadata": {
  "kernelspec": {
   "display_name": "Python 3",
   "language": "python",
   "name": "python3"
  },
  "language_info": {
   "codemirror_mode": {
    "name": "ipython",
    "version": 3
   },
   "file_extension": ".py",
   "mimetype": "text/x-python",
   "name": "python",
   "nbconvert_exporter": "python",
   "pygments_lexer": "ipython3",
   "version": "3.6.5"
  }
 },
 "nbformat": 4,
 "nbformat_minor": 2
}
