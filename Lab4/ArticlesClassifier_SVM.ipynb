{
 "cells": [
  {
   "cell_type": "code",
   "execution_count": 47,
   "metadata": {},
   "outputs": [],
   "source": [
    "import numpy as np\n",
    "from sklearn import metrics\n",
    "from sklearn.feature_extraction.text import CountVectorizer\n",
    "from sklearn.feature_extraction.text import TfidfTransformer\n",
    "from sklearn.feature_extraction.text import TfidfVectorizer\n",
    "from sklearn.pipeline import Pipeline\n",
    "from sklearn.linear_model import SGDClassifier\n",
    "from sklearn.svm import SVC, LinearSVC, NuSVC\n",
    "from sklearn.model_selection import GridSearchCV"
   ]
  },
  {
   "cell_type": "code",
   "execution_count": 33,
   "metadata": {},
   "outputs": [],
   "source": [
    "filename_train = [\"Dataset/giaoduc\" + str(i) + \".txt\" for i in range(50)]\n",
    "filename_train+=[\"Dataset/chinhtri\" + str(i) + \".txt\" for i in range(50)]\n",
    "filename_train+=[\"Dataset/phapluat\" + str(i) + \".txt\" for i in range(50)]\n",
    "filename_train+=[\"Dataset/suckhoe\" + str(i) + \".txt\" for i in range(50)]\n",
    "\n",
    "filename_test = [\"Dataset/giaoduc\" + str(i) + \".txt\" for i in range(50,60)]\n",
    "filename_test+=[\"Dataset/chinhtri\" + str(i) + \".txt\" for i in range(50,60)]\n",
    "filename_test+=[\"Dataset/phapluat\" + str(i) + \".txt\" for i in range(50,60)]\n",
    "filename_test+=[\"Dataset/suckhoe\" + str(i) + \".txt\" for i in range(50,70)]"
   ]
  },
  {
   "cell_type": "code",
   "execution_count": 34,
   "metadata": {},
   "outputs": [],
   "source": [
    "X_train = []\n",
    "for filename in filename_train:\n",
    "    X_train.append(open(filename, 'r').read())\n",
    "    \n",
    "X_test = []\n",
    "for filename in filename_test:\n",
    "    X_test.append(open(filename, 'r').read())"
   ]
  },
  {
   "cell_type": "code",
   "execution_count": 35,
   "metadata": {},
   "outputs": [],
   "source": [
    "Y_train = []\n",
    "for i in range(0,200):\n",
    "    if (i<50):    Y_train.append(0) \n",
    "    elif (i<100): Y_train.append(1)\n",
    "    elif (i<150): Y_train.append(2)\n",
    "    else: Y_train.append(3)       \n",
    "\n",
    "Y_test = []\n",
    "for i in range(0,50):\n",
    "    if (i<10):  Y_test.append(0) \n",
    "    elif (i<20): Y_test.append(1)\n",
    "    elif (i<30): Y_test.append(2)\n",
    "    else: Y_test.append(3)"
   ]
  },
  {
   "cell_type": "code",
   "execution_count": 37,
   "metadata": {},
   "outputs": [
    {
     "data": {
      "text/plain": [
       "(200, 4464)"
      ]
     },
     "execution_count": 37,
     "metadata": {},
     "output_type": "execute_result"
    }
   ],
   "source": [
    "count_vect = CountVectorizer()\n",
    "X_train_counts = count_vect.fit_transform(X_train)\n",
    "X_train_counts.shape"
   ]
  },
  {
   "cell_type": "code",
   "execution_count": 29,
   "metadata": {},
   "outputs": [
    {
     "data": {
      "text/plain": [
       "(200, 4464)"
      ]
     },
     "execution_count": 29,
     "metadata": {},
     "output_type": "execute_result"
    }
   ],
   "source": [
    "tf_transformer = TfidfTransformer(use_idf=False).fit(X_train_counts)\n",
    "X_train_tf = tf_transformer.transform(X_train_counts)\n",
    "X_train_tf.shape"
   ]
  },
  {
   "cell_type": "code",
   "execution_count": 38,
   "metadata": {},
   "outputs": [
    {
     "data": {
      "text/plain": [
       "(200, 4464)"
      ]
     },
     "execution_count": 38,
     "metadata": {},
     "output_type": "execute_result"
    }
   ],
   "source": [
    "tfidf_vectorizer = TfidfVectorizer()\n",
    "X_train_tfidf = tfidf_vectorizer.fit_transform(X_train)\n",
    "X_train_tfidf.shape"
   ]
  },
  {
   "cell_type": "code",
   "execution_count": 40,
   "metadata": {},
   "outputs": [],
   "source": [
    "text_clf = Pipeline([('vect', TfidfVectorizer()),('clf', LinearSVC())])\n",
    "text_clf.fit(X_train, Y_train)\n",
    "predicted = text_clf.predict(X_test)"
   ]
  },
  {
   "cell_type": "code",
   "execution_count": 46,
   "metadata": {},
   "outputs": [
    {
     "name": "stdout",
     "output_type": "stream",
     "text": [
      "             precision    recall  f1-score   support\n",
      "\n",
      "          0       1.00      1.00      1.00        10\n",
      "          1       1.00      1.00      1.00        10\n",
      "          2       0.77      1.00      0.87        10\n",
      "          3       1.00      0.85      0.92        20\n",
      "\n",
      "avg / total       0.95      0.94      0.94        50\n",
      "\n"
     ]
    }
   ],
   "source": [
    "print(metrics.classification_report(Y_test, predicted))"
   ]
  },
  {
   "cell_type": "code",
   "execution_count": 51,
   "metadata": {},
   "outputs": [],
   "source": [
    "parameters={'vect__ngram_range':[(1,1),(1,2)],'vect__use_idf':(True, False),'clf__C':(1.0,0.1,1e-2,1e-3),}\n",
    "gs_clf = GridSearchCV(text_clf, parameters, n_jobs=-1)\n",
    "gs_clf = gs_clf.fit(X_train, Y_train)\n",
    "clf = gs_clf.best_estimator_\n",
    "predicted = clf.predict(X_test)"
   ]
  },
  {
   "cell_type": "code",
   "execution_count": 52,
   "metadata": {},
   "outputs": [
    {
     "name": "stdout",
     "output_type": "stream",
     "text": [
      "             precision    recall  f1-score   support\n",
      "\n",
      "          0       0.83      1.00      0.91        10\n",
      "          1       1.00      1.00      1.00        10\n",
      "          2       0.77      1.00      0.87        10\n",
      "          3       1.00      0.75      0.86        20\n",
      "\n",
      "avg / total       0.92      0.90      0.90        50\n",
      "\n"
     ]
    }
   ],
   "source": [
    "print(metrics.classification_report(Y_test, predicted))"
   ]
  },
  {
   "cell_type": "code",
   "execution_count": null,
   "metadata": {},
   "outputs": [],
   "source": []
  }
 ],
 "metadata": {
  "kernelspec": {
   "display_name": "Python 3",
   "language": "python",
   "name": "python3"
  },
  "language_info": {
   "codemirror_mode": {
    "name": "ipython",
    "version": 3
   },
   "file_extension": ".py",
   "mimetype": "text/x-python",
   "name": "python",
   "nbconvert_exporter": "python",
   "pygments_lexer": "ipython3",
   "version": "3.5.2"
  }
 },
 "nbformat": 4,
 "nbformat_minor": 2
}
