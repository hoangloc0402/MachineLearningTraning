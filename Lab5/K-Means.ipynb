{
 "cells": [
  {
   "cell_type": "code",
   "execution_count": 126,
   "metadata": {},
   "outputs": [],
   "source": [
    "import numpy as np \n",
    "import pandas as pd\n",
    "import matplotlib.pyplot as plt \n",
    "import warnings\n",
    "from sklearn.feature_extraction.text import TfidfVectorizer\n",
    "from sklearn.cluster import KMeans\n",
    "from sklearn.cluster import DBSCAN"
   ]
  },
  {
   "cell_type": "code",
   "execution_count": 127,
   "metadata": {},
   "outputs": [],
   "source": [
    "fileList = [\"Dataset/giaoduc\" + str(i) + \".txt\" for i in range(60)]\n",
    "fileList = fileList + [\"Dataset/chinhtri\" + str(i) + \".txt\" for i in range(60)]\n",
    "fileList = fileList + [\"Dataset/phapluat\" + str(i) + \".txt\" for i in range(60)]\n",
    "fileList = fileList + [\"Dataset/suckhoe\" + str(i) + \".txt\" for i in range(60)]"
   ]
  },
  {
   "cell_type": "code",
   "execution_count": 128,
   "metadata": {},
   "outputs": [],
   "source": [
    "vectorTfidf = TfidfVectorizer(input='filename').fit_transform(fileList).toarray()\n",
    "df = pd.DataFrame(vectorTfidf)"
   ]
  },
  {
   "cell_type": "code",
   "execution_count": 129,
   "metadata": {},
   "outputs": [],
   "source": [
    "features = df.columns\n",
    "X = df[features].values\n",
    "#plt.scatter(X[:,0], X[:,1])"
   ]
  },
  {
   "cell_type": "code",
   "execution_count": 130,
   "metadata": {},
   "outputs": [
    {
     "name": "stdout",
     "output_type": "stream",
     "text": [
      "[3 3 3 3 3 3 3 3 3 3 3 3 3 3 3 3 3 3 3 3 3 3 3 3 3 3 3 3 3 3 3 3 3 3 3 3 3\n",
      " 3 3 3 3 3 3 3 3 3 3 3 2 3 3 3 3 3 3 3 0 3 3 3 1 0 1 1 1 1 1 1 1 1 1 1 1 1\n",
      " 1 1 1 1 1 1 1 1 1 1 1 1 1 1 1 1 1 1 1 1 1 1 1 1 1 1 1 1 1 1 1 1 1 1 1 1 1\n",
      " 1 1 1 1 1 1 1 1 1 0 0 0 0 0 0 2 0 0 0 0 0 0 0 0 0 0 0 0 0 0 0 0 0 0 0 0 0\n",
      " 0 0 0 0 0 0 2 0 0 3 0 0 0 0 0 0 0 0 0 0 0 0 0 0 0 0 0 0 0 0 0 0 2 2 2 2 0\n",
      " 2 2 2 2 2 2 2 2 2 2 2 2 2 2 2 2 2 2 2 2 2 2 2 0 2 2 2 2 2 2 2 2 2 2 2 2 2\n",
      " 2 2 2 2 2 2 2 2 2 2 2 2 2 2 0 3 3 2]\n"
     ]
    }
   ],
   "source": [
    "kmeans = KMeans(n_clusters=4)\n",
    "y_kmeans = kmeans.fit_predict(X)\n",
    "print(y_kmeans)"
   ]
  },
  {
   "cell_type": "code",
   "execution_count": 132,
   "metadata": {},
   "outputs": [
    {
     "name": "stdout",
     "output_type": "stream",
     "text": [
      "[ 0  0 -1  0  0 -1  0  0  0 -1 -1  0  0  0  0  0  0  0 -1 -1  0  0  0  0\n",
      "  0  0  0 -1 -1 -1  0  0 -1  0  0  0  0 -1  0  0  0  0  0  0  0  0  0  0\n",
      " -1  0  0  0  0  0  0  0 -1  0  0  0 -1 -1 -1  1  1  1  1 -1  1  1 -1  1\n",
      "  1  1 -1 -1 -1 -1 -1  1 -1  1 -1 -1 -1  1  1  1 -1 -1  1 -1 -1  1 -1 -1\n",
      "  1  1  1  1  1 -1  1  1  1  1  1  1  1 -1  1  1 -1  1 -1 -1 -1 -1 -1 -1\n",
      " -1 -1 -1 -1 -1 -1 -1 -1 -1 -1 -1 -1 -1 -1 -1  2 -1 -1 -1 -1 -1 -1 -1 -1\n",
      " -1 -1 -1  2  2 -1 -1 -1 -1 -1 -1 -1 -1 -1 -1 -1  2 -1 -1 -1  2 -1  2 -1\n",
      " -1 -1 -1 -1 -1  2  2  2 -1  2 -1 -1  3 -1  3  3 -1 -1  3  3 -1  4  4  3\n",
      "  3 -1 -1 -1 -1  4  4 -1 -1 -1  4 -1 -1  4  4 -1 -1 -1 -1 -1 -1 -1 -1  4\n",
      " -1  4 -1 -1 -1 -1 -1 -1 -1 -1 -1 -1 -1 -1 -1  3 -1 -1 -1 -1 -1 -1 -1 -1]\n"
     ]
    }
   ],
   "source": [
    "dbscan = DBSCAN(eps=1.103)\n",
    "y_dbscan = dbscan.fit_predict(X)\n",
    "print(y_dbscan)"
   ]
  },
  {
   "cell_type": "code",
   "execution_count": null,
   "metadata": {},
   "outputs": [],
   "source": []
  }
 ],
 "metadata": {
  "kernelspec": {
   "display_name": "Python 3",
   "language": "python",
   "name": "python3"
  },
  "language_info": {
   "codemirror_mode": {
    "name": "ipython",
    "version": 3
   },
   "file_extension": ".py",
   "mimetype": "text/x-python",
   "name": "python",
   "nbconvert_exporter": "python",
   "pygments_lexer": "ipython3",
   "version": "3.6.5"
  }
 },
 "nbformat": 4,
 "nbformat_minor": 2
}
