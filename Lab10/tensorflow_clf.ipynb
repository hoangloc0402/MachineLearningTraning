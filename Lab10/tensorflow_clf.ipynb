{
  "nbformat": 4,
  "nbformat_minor": 0,
  "metadata": {
    "colab": {
      "name": "tenforflow_clf.ipynb",
      "version": "0.3.2",
      "provenance": [],
      "collapsed_sections": []
    },
    "kernelspec": {
      "name": "python3",
      "display_name": "Python 3"
    },
    "accelerator": "GPU"
  },
  "cells": [
    {
      "metadata": {
        "id": "L0Qsty0yKG-0",
        "colab_type": "code",
        "colab": {}
      },
      "cell_type": "code",
      "source": [
        "import tensorflow as tf\n",
        "import  keras\n",
        "from  keras  import  Sequential\n",
        "from keras.layers import Dense\n",
        "from keras.utils import to_categorical as onehot\n",
        "import h5py\n",
        "import sys\n",
        "import numpy as np\n",
        "from sklearn.metrics import classification_report\n",
        "from sklearn.metrics import accuracy_score\n",
        "from sklearn.model_selection import train_test_split as split\n",
        "from google.colab import drive"
      ],
      "execution_count": 0,
      "outputs": []
    },
    {
      "metadata": {
        "id": "kGHTcjelKphz",
        "colab_type": "code",
        "colab": {}
      },
      "cell_type": "code",
      "source": [
        "drive.mount('/content/drive')\n",
        "sys.path.append('drive/My Drive/Colab Notebooks/')"
      ],
      "execution_count": 0,
      "outputs": []
    },
    {
      "metadata": {
        "id": "rs-Bi49zKsWz",
        "colab_type": "code",
        "colab": {}
      },
      "cell_type": "code",
      "source": [
        "test_data_path = 'drive/My Drive/Colab Notebooks/test_guitar_vs_nonguitar.h5'\n",
        "train_data_path = 'drive/My Drive/Colab Notebooks/train_guitar_vs_nonguitar.h5'\n",
        "data_train = h5py.File(train_data_path, 'r')\n",
        "data_test = h5py.File(test_data_path, 'r')\n",
        "X = data_train['train_set_x'].value.flatten().reshape(300, 64*64*3)\n",
        "y = data_train['train_set_y'].value\n",
        "X = np.concatenate((X, data_test['test_set_x'].value.flatten().reshape(200, 64*64*3)), axis = 0)\n",
        "y = np.concatenate((y, data_test['test_set_y'].value), axis = 0)\n",
        "y  = onehot(y, 2)"
      ],
      "execution_count": 0,
      "outputs": []
    },
    {
      "metadata": {
        "id": "-QS3ej6OKwr_",
        "colab_type": "code",
        "outputId": "104f9fbc-c0d9-44a4-b679-0400eec055cf",
        "colab": {
          "base_uri": "https://localhost:8080/",
          "height": 85
        }
      },
      "cell_type": "code",
      "source": [
        "X_train, X_test, y_train, y_test = split(X, y, test_size = 0.2, random_state = 1511849)\n",
        "print(X_train.shape)\n",
        "print(X_test.shape)\n",
        "print(y_train.shape)\n",
        "print(y_test.shape)"
      ],
      "execution_count": 0,
      "outputs": [
        {
          "output_type": "stream",
          "text": [
            "(400, 12288)\n",
            "(100, 12288)\n",
            "(400, 2)\n",
            "(100, 2)\n"
          ],
          "name": "stdout"
        }
      ]
    },
    {
      "metadata": {
        "id": "cE111lhBR_03",
        "colab_type": "code",
        "colab": {}
      },
      "cell_type": "code",
      "source": [
        "n_input = 12288\n",
        "n_classes = 2\n",
        "X = tf.placeholder(\"float\", [None, n_input])\n",
        "Y = tf.placeholder(\"float\", [None, n_classes])"
      ],
      "execution_count": 0,
      "outputs": []
    },
    {
      "metadata": {
        "id": "yOUDFdWuSMk7",
        "colab_type": "code",
        "colab": {}
      },
      "cell_type": "code",
      "source": [
        "n_hidden_1 = 1200 \n",
        "n_hidden_2 = 500 \n",
        "n_hidden_3 = 100 \n",
        "\n",
        "weights = {\n",
        "    'w1': tf.Variable(tf.random_normal([n_input, n_hidden_1])),\n",
        "    'w2': tf.Variable(tf.random_normal([n_hidden_1, n_hidden_2])),\n",
        "    'w3': tf.Variable(tf.random_normal([n_hidden_2, n_hidden_3])),\n",
        "    'w_out': tf.Variable(tf.random_normal([n_hidden_3, n_classes]))\n",
        "}\n",
        "biases = {\n",
        "    'b1': tf.Variable(tf.random_normal([n_hidden_1])),\n",
        "    'b2': tf.Variable(tf.random_normal([n_hidden_2])),\n",
        "    'b3': tf.Variable(tf.random_normal([n_hidden_3])),\n",
        "    'b_out': tf.Variable(tf.random_normal([n_classes]))\n",
        "}"
      ],
      "execution_count": 0,
      "outputs": []
    },
    {
      "metadata": {
        "id": "xXEcOqLjScxM",
        "colab_type": "code",
        "colab": {}
      },
      "cell_type": "code",
      "source": [
        "def multilayer_perceptron(x):\n",
        "    layer_1 = tf.add(tf.matmul(x, weights['w1']), biases['b1'])\n",
        "    \n",
        "    layer_2 = tf.add(tf.matmul(layer_1, weights['w2']), biases['b2'])\n",
        "    \n",
        "    layer_3 = tf.add(tf.matmul(layer_2, weights['w3']), biases['b3'])\n",
        "    \n",
        "    output_layer = tf.matmul(layer_3, weights['w_out']) + biases['b_out']\n",
        "    \n",
        "    return output_layer"
      ],
      "execution_count": 0,
      "outputs": []
    },
    {
      "metadata": {
        "id": "Bpg-MQ9PS9oc",
        "colab_type": "code",
        "colab": {}
      },
      "cell_type": "code",
      "source": [
        "logits = multilayer_perceptron(X)\n",
        "loss_op = tf.reduce_mean(tf.nn.softmax_cross_entropy_with_logits(logits=logits, labels=Y))\n",
        "learning_rate = 0.005\n",
        "optimizer = tf.train.AdamOptimizer(learning_rate=learning_rate)\n",
        "train_op = optimizer.minimize(loss_op)\n",
        "init = tf.global_variables_initializer()"
      ],
      "execution_count": 0,
      "outputs": []
    },
    {
      "metadata": {
        "id": "N6Zrt9oaTUmk",
        "colab_type": "code",
        "outputId": "c7710c74-7ad6-4cf9-ec83-b247317e072b",
        "colab": {
          "base_uri": "https://localhost:8080/",
          "height": 51
        }
      },
      "cell_type": "code",
      "source": [
        "n_epochs = 300\n",
        "batch_size = 100\n",
        "\n",
        "with tf.Session() as sess:\n",
        "    sess.run(init)\n",
        "    for epoch in range(n_epochs):\n",
        "        avg_cost = 0.0\n",
        "        total_batch = 400\n",
        "        for i in range(total_batch):\n",
        "            _, cost = sess.run([train_op, loss_op], \n",
        "                            feed_dict={X: X_train, Y: y_train})\n",
        "            avg_cost += cost / total_batch\n",
        "    print(\"Finished training!\")\n",
        "\n",
        "    pred = tf.nn.softmax(logits)  \n",
        "    correct_prediction = tf.equal(tf.argmax(pred, 1), tf.argmax(Y, 1))\n",
        "\n",
        "    accuracy = tf.reduce_mean(tf.cast(correct_prediction, \"float\"))\n",
        "    print(\"Accuracy:\", accuracy.eval({X: X_test, Y: y_test}))"
      ],
      "execution_count": 19,
      "outputs": [
        {
          "output_type": "stream",
          "text": [
            "Finished training!\n",
            "Accuracy: 0.74\n"
          ],
          "name": "stdout"
        }
      ]
    },
    {
      "metadata": {
        "id": "9y1e0_VNYU7u",
        "colab_type": "code",
        "colab": {}
      },
      "cell_type": "code",
      "source": [
        ""
      ],
      "execution_count": 0,
      "outputs": []
    }
  ]
}