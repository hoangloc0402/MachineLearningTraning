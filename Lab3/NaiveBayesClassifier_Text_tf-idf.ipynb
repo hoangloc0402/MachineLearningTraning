{
 "cells": [
  {
   "cell_type": "code",
   "execution_count": 2,
   "metadata": {},
   "outputs": [],
   "source": [
    "import numpy as np\n",
    "import pandas as pd\n",
    "from sklearn.feature_extraction.text import TfidfVectorizer\n",
    "from collections import Counter\n",
    "from sklearn.naive_bayes import MultinomialNB\n",
    "from sklearn.naive_bayes import GaussianNB\n",
    "from sklearn.pipeline import make_pipeline\n",
    "from imblearn.under_sampling import RandomUnderSampler\n",
    "from imblearn.pipeline import make_pipeline as make_pipeline_imb\n",
    "from imblearn.metrics import classification_report_imbalanced\n",
    "from sklearn.model_selection import train_test_split\n",
    "from sklearn.metrics import precision_score\n",
    "from sklearn.metrics import recall_score\n",
    "from sklearn.metrics import accuracy_score\n",
    "from sklearn.model_selection import cross_val_score\n",
    "from sklearn.metrics import f1_score"
   ]
  },
  {
   "cell_type": "code",
   "execution_count": 3,
   "metadata": {},
   "outputs": [],
   "source": [
    "fileList = [\"Dataset/giaoduc\" + str(i) + \".txt\" for i in range(50)]\n",
    "fileList = fileList + [\"Dataset/chinhtri\" + str(i) + \".txt\" for i in range(50)]\n",
    "fileList = fileList + [\"Dataset/phapluat\" + str(i) + \".txt\" for i in range(50)]\n",
    "fileList = fileList + [\"Dataset/suckhoe\" + str(i) + \".txt\" for i in range(50)]\n",
    "\n",
    "# Khai báo các file cần load lên (thuộc tập test)\n",
    "fileList = fileList + [\"Dataset/giaoduc\" + str(i) + \".txt\" for i in range(50,60)]\n",
    "fileList = fileList + [\"Dataset/chinhtri\" + str(i) + \".txt\" for i in range(50,60)]\n",
    "fileList = fileList + [\"Dataset/phapluat\" + str(i) + \".txt\" for i in range(50,60)]\n",
    "fileList = fileList + [\"Dataset/suckhoe\" + str(i) + \".txt\" for i in range(50,70)]\n",
    "\n",
    "X = TfidfVectorizer(input='filename').fit_transform(fileList).toarray()\n",
    "\n",
    "# 200 phần tử đầu thuộc tập train\n",
    "X_train = X[:200]\n",
    "# 50 phần từ sau thuộc tập test\n",
    "X_test = X[200:250]"
   ]
  },
  {
   "cell_type": "code",
   "execution_count": 4,
   "metadata": {},
   "outputs": [],
   "source": [
    "Y_train = []\n",
    "Y_test = []\n",
    "\n",
    "# Tạo vector chứa nhãn của tập train\n",
    "for i in range(0,200):\n",
    "    if (i<50):\n",
    "        Y_train.append(0) \n",
    "    elif (i<100):\n",
    "        Y_train.append(1)\n",
    "    elif (i<150):\n",
    "        Y_train.append(2)\n",
    "    else:\n",
    "        Y_train.append(3)\n",
    "        \n",
    "# Tạo vector chứa nhãn đúng của tập test, dùng để so sánh với kết quả predict        \n",
    "for i in range(0,50):\n",
    "    if (i<10):\n",
    "        Y_test.append(0) \n",
    "    elif (i<20):\n",
    "        Y_test.append(1)\n",
    "    elif (i<30):\n",
    "        Y_test.append(2)\n",
    "    else:\n",
    "        Y_test.append(3)"
   ]
  },
  {
   "cell_type": "code",
   "execution_count": 5,
   "metadata": {},
   "outputs": [
    {
     "name": "stdout",
     "output_type": "stream",
     "text": [
      "Accuracy:  0.84\n",
      "Precision:  0.84\n",
      "Recall:  0.84\n",
      "F-Measure:  0.8399999999999999\n",
      "                   pre       rec       spe        f1       geo       iba       sup\n",
      "\n",
      "          0       0.90      0.90      0.97      0.90      0.94      0.87        10\n",
      "          1       0.71      1.00      0.90      0.83      0.95      0.91        10\n",
      "          2       0.75      0.90      0.93      0.82      0.91      0.83        10\n",
      "          3       1.00      0.70      1.00      0.82      0.84      0.68        20\n",
      "\n",
      "avg / total       0.87      0.84      0.96      0.84      0.89      0.79        50\n",
      "\n"
     ]
    }
   ],
   "source": [
    "Gaussian_NB_Classifier = GaussianNB()\n",
    "Gaussian_NB_Classifier.fit(X_train,Y_train)\n",
    "predict_Result = Gaussian_NB_Classifier.predict(X_test)\n",
    "print(\"Accuracy: \",accuracy_score(Y_test, predict_Result))\n",
    "print(\"Precision: \",precision_score(Y_test, predict_Result,average='micro'))\n",
    "print(\"Recall: \",recall_score(Y_test, predict_Result,average='micro'))\n",
    "print(\"F-Measure: \",f1_score(Y_test, predict_Result,average='micro'))\n",
    "print(classification_report_imbalanced(Y_test, predict_Result))"
   ]
  },
  {
   "cell_type": "code",
   "execution_count": 6,
   "metadata": {},
   "outputs": [
    {
     "name": "stdout",
     "output_type": "stream",
     "text": [
      "Accuracy:  0.94\n",
      "Precision:  0.94\n",
      "Recall:  0.94\n",
      "F-Measure:  0.94\n",
      "                   pre       rec       spe        f1       geo       iba       sup\n",
      "\n",
      "          0       1.00      1.00      1.00      1.00      1.00      1.00        10\n",
      "          1       1.00      1.00      1.00      1.00      1.00      1.00        10\n",
      "          2       0.77      1.00      0.93      0.87      0.96      0.93        10\n",
      "          3       1.00      0.85      1.00      0.92      0.92      0.84        20\n",
      "\n",
      "avg / total       0.95      0.94      0.98      0.94      0.96      0.92        50\n",
      "\n"
     ]
    }
   ],
   "source": [
    "Multinomial_NB_Classifier = MultinomialNB()\n",
    "Multinomial_NB_Classifier.fit(X_train,Y_train)\n",
    "predict_Result = Multinomial_NB_Classifier.predict(X_test)\n",
    "print(\"Accuracy: \",accuracy_score(Y_test, predict_Result))\n",
    "print(\"Precision: \",precision_score(Y_test, predict_Result,average='micro'))\n",
    "print(\"Recall: \",recall_score(Y_test, predict_Result,average='micro'))\n",
    "print(\"F-Measure: \",f1_score(Y_test, predict_Result,average='micro'))\n",
    "print(classification_report_imbalanced(Y_test, predict_Result))"
   ]
  },
  {
   "cell_type": "code",
   "execution_count": 9,
   "metadata": {},
   "outputs": [
    {
     "name": "stdout",
     "output_type": "stream",
     "text": [
      "[0.8  0.82 0.82 0.8  0.86]\n",
      "Accuracy: 0.82 (+/- 0.04)\n"
     ]
    }
   ],
   "source": [
    "scores = cross_val_score(Gaussian_NB_Classifier , X, Y_train + Y_test, cv=5)\n",
    "print(scores)\n",
    "print(\"Accuracy: %0.2f (+/- %0.2f)\" % (scores.mean(), scores.std() * 2))"
   ]
  },
  {
   "cell_type": "code",
   "execution_count": 10,
   "metadata": {},
   "outputs": [
    {
     "name": "stdout",
     "output_type": "stream",
     "text": [
      "[0.98 1.   0.94 0.98 0.92]\n",
      "Accuracy: 0.96 (+/- 0.06)\n"
     ]
    }
   ],
   "source": [
    "scores = cross_val_score(Multinomial_NB_Classifier , X, Y_train + Y_test, cv=5)\n",
    "print(scores)\n",
    "print(\"Accuracy: %0.2f (+/- %0.2f)\" % (scores.mean(), scores.std() * 2))"
   ]
  },
  {
   "cell_type": "code",
   "execution_count": null,
   "metadata": {},
   "outputs": [],
   "source": []
  }
 ],
 "metadata": {
  "kernelspec": {
   "display_name": "Python 3",
   "language": "python",
   "name": "python3"
  },
  "language_info": {
   "codemirror_mode": {
    "name": "ipython",
    "version": 3
   },
   "file_extension": ".py",
   "mimetype": "text/x-python",
   "name": "python",
   "nbconvert_exporter": "python",
   "pygments_lexer": "ipython3",
   "version": "3.6.5"
  }
 },
 "nbformat": 4,
 "nbformat_minor": 2
}
