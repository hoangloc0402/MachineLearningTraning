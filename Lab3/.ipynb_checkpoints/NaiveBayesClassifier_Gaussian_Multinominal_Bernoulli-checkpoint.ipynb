{
 "cells": [
  {
   "cell_type": "code",
   "execution_count": 73,
   "metadata": {},
   "outputs": [],
   "source": [
    "import numpy as np\n",
    "from sklearn.naive_bayes import GaussianNB\n",
    "from sklearn.naive_bayes import MultinomialNB\n",
    "from sklearn.naive_bayes import BernoulliNB\n",
    "from sklearn.datasets import load_iris\n",
    "from sklearn.model_selection import train_test_split\n",
    "from sklearn.metrics import precision_score\n",
    "from sklearn.metrics import recall_score\n",
    "from sklearn.metrics import accuracy_score\n",
    "from sklearn.metrics import f1_score\n",
    "import pandas as pd"
   ]
  },
  {
   "cell_type": "code",
   "execution_count": 36,
   "metadata": {},
   "outputs": [],
   "source": [
    "iris = load_iris()\n",
    "df = pd.DataFrame(iris.data , columns = iris.feature_names)\n",
    "X_train, X_test, y_train, y_test = train_test_split(\n",
    "    df[iris.feature_names],                  \n",
    "    iris.target,                  \n",
    "    test_size=0.3,              \n",
    "    stratify=iris.target,                  \n",
    "    random_state = 1511849)\n",
    "X_train = np.array(X_train)\n",
    "X_test = np.array(X_test)"
   ]
  },
  {
   "cell_type": "code",
   "execution_count": 78,
   "metadata": {},
   "outputs": [
    {
     "name": "stdout",
     "output_type": "stream",
     "text": [
      "Accuracy:  0.9555555555555556\n",
      "Precision:  0.9555555555555556\n",
      "Recall:  0.9555555555555556\n",
      "F-Measure:  0.9555555555555556\n"
     ]
    }
   ],
   "source": [
    "Gaussian_NB_Classifier = GaussianNB()\n",
    "Gaussian_NB_Classifier.fit(X_train,y_train)\n",
    "predict_Result = Gaussian_NB_Classifier.predict(X_test)\n",
    "print(\"Accuracy: \",accuracy_score(y_test, predict_Result))\n",
    "print(\"Precision: \",precision_score(y_test, predict_Result,average='micro'))\n",
    "print(\"Recall: \",recall_score(y_test, predict_Result,average='micro'))\n",
    "print(\"F-Measure: \",f1_score(y_test, predict_Result,average='micro'))\n",
    "# print(Gaussian_NB_Classifier.predict_proba(X_test[0][2]))"
   ]
  },
  {
   "cell_type": "code",
   "execution_count": 76,
   "metadata": {},
   "outputs": [
    {
     "name": "stdout",
     "output_type": "stream",
     "text": [
      "Accuracy:  0.9777777777777777\n",
      "Precision:  0.9777777777777777\n",
      "Recall:  0.9777777777777777\n",
      "F-Measure:  0.9777777777777777\n"
     ]
    }
   ],
   "source": [
    "Multinomial_NB_Classifier = MultinomialNB()\n",
    "Multinomial_NB_Classifier.fit(X_train,y_train)\n",
    "predict_Result = Multinomial_NB_Classifier.predict(X_test)\n",
    "print(\"Accuracy: \",accuracy_score(y_test, predict_Result))\n",
    "print(\"Precision: \",precision_score(y_test, predict_Result,average='micro'))\n",
    "print(\"Recall: \",recall_score(y_test, predict_Result,average='micro'))\n",
    "print(\"F-Measure: \",f1_score(y_test, predict_Result,average='micro'))"
   ]
  },
  {
   "cell_type": "code",
   "execution_count": 77,
   "metadata": {},
   "outputs": [
    {
     "name": "stdout",
     "output_type": "stream",
     "text": [
      "Accuracy:  0.3333333333333333\n",
      "Precision:  0.3333333333333333\n",
      "Recall:  0.3333333333333333\n",
      "F-Measure:  0.3333333333333333\n"
     ]
    }
   ],
   "source": [
    "Bernoulli_NB_Classifier = BernoulliNB()\n",
    "Bernoulli_NB_Classifier.fit(X_train,y_train)\n",
    "predict_Result = Bernoulli_NB_Classifier.predict(X_test)\n",
    "print(\"Accuracy: \",accuracy_score(y_test, predict_Result))\n",
    "print(\"Precision: \",precision_score(y_test, predict_Result,average='micro'))\n",
    "print(\"Recall: \",recall_score(y_test, predict_Result,average='micro'))\n",
    "print(\"F-Measure: \",f1_score(y_test, predict_Result,average='micro'))"
   ]
  },
  {
   "cell_type": "code",
   "execution_count": null,
   "metadata": {},
   "outputs": [],
   "source": []
  }
 ],
 "metadata": {
  "kernelspec": {
   "display_name": "Python 3",
   "language": "python",
   "name": "python3"
  },
  "language_info": {
   "codemirror_mode": {
    "name": "ipython",
    "version": 3
   },
   "file_extension": ".py",
   "mimetype": "text/x-python",
   "name": "python",
   "nbconvert_exporter": "python",
   "pygments_lexer": "ipython3",
   "version": "3.5.2"
  }
 },
 "nbformat": 4,
 "nbformat_minor": 2
}
